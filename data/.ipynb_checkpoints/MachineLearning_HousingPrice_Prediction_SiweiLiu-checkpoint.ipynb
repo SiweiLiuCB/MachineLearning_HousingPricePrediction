{
 "cells": [
  {
   "cell_type": "markdown",
   "metadata": {},
   "source": [
    "# Using Machine Learning to Predict Housing Price\n",
    "### --Siwei Liu"
   ]
  },
  {
   "cell_type": "code",
   "execution_count": 1,
   "metadata": {},
   "outputs": [],
   "source": [
    "import numpy as np\n",
    "import pandas as pd\n",
    "import glob\n",
    "import re\n",
    "import matplotlib\n",
    "import matplotlib.pyplot as plt\n",
    "import seaborn as sns\n",
    "%matplotlib inline\n",
    "import warnings\n",
    "import xgboost as xgb\n",
    "# import lightgbm as lgb\n",
    "from scipy.stats import skew\n",
    "from scipy import stats\n",
    "from scipy.stats.stats import pearsonr\n",
    "from scipy.stats import norm\n",
    "from collections import Counter\n",
    "from sklearn.model_selection import train_test_split\n",
    "from sklearn.linear_model import LinearRegression,LassoCV, Ridge, LassoLarsCV,ElasticNetCV\n",
    "from sklearn.model_selection import GridSearchCV, cross_val_score, learning_curve\n",
    "from sklearn.ensemble import RandomForestRegressor, AdaBoostRegressor, ExtraTreesRegressor, GradientBoostingRegressor\n",
    "from sklearn.preprocessing import StandardScaler, Normalizer, RobustScaler\n",
    "warnings.filterwarnings('ignore')\n",
    "sns.set(style='white', context='notebook', palette='deep')"
   ]
  },
  {
   "cell_type": "markdown",
   "metadata": {},
   "source": [
    "# Data Cleaning\n",
    "First, we need to clean the data and do some basic analysis of th raw data."
   ]
  },
  {
   "cell_type": "code",
   "execution_count": 2,
   "metadata": {},
   "outputs": [],
   "source": [
    "df = pd.read_excel('Building_bio_modified.xlsx')"
   ]
  },
  {
   "cell_type": "code",
   "execution_count": 3,
   "metadata": {},
   "outputs": [
    {
     "data": {
      "text/plain": [
       "(1000, 44)"
      ]
     },
     "execution_count": 3,
     "metadata": {},
     "output_type": "execute_result"
    }
   ],
   "source": [
    "df.shape"
   ]
  },
  {
   "cell_type": "code",
   "execution_count": 4,
   "metadata": {},
   "outputs": [],
   "source": [
    "# Drop the duplicates\n",
    "df.drop_duplicates(subset =\"id\", keep = \"first\", inplace = True)\n",
    "df.reset_index(drop = True, inplace = True)"
   ]
  },
  {
   "cell_type": "code",
   "execution_count": 5,
   "metadata": {},
   "outputs": [
    {
     "data": {
      "text/plain": [
       "(823, 44)"
      ]
     },
     "execution_count": 5,
     "metadata": {},
     "output_type": "execute_result"
    }
   ],
   "source": [
    "df.shape"
   ]
  },
  {
   "cell_type": "code",
   "execution_count": 6,
   "metadata": {},
   "outputs": [
    {
     "name": "stdout",
     "output_type": "stream",
     "text": [
      "<class 'pandas.core.frame.DataFrame'>\n",
      "RangeIndex: 823 entries, 0 to 822\n",
      "Data columns (total 44 columns):\n",
      "id           823 non-null int64\n",
      "bldname      823 non-null object\n",
      "address      823 non-null object\n",
      "detail1      801 non-null object\n",
      "detail2      803 non-null object\n",
      "detail3      811 non-null object\n",
      "detail4      776 non-null object\n",
      "detail5      35 non-null object\n",
      "detail6      0 non-null float64\n",
      "detail2_1    775 non-null object\n",
      "amnthl1      212 non-null object\n",
      "amnthl2      136 non-null object\n",
      "amnthl3      63 non-null object\n",
      "amnt1        531 non-null object\n",
      "amnt2        182 non-null object\n",
      "amnt3        129 non-null object\n",
      "amnt4        103 non-null object\n",
      "amnt5        81 non-null object\n",
      "amnt6        60 non-null object\n",
      "amnt7        45 non-null object\n",
      "amnt8        41 non-null object\n",
      "amnt9        35 non-null object\n",
      "amnt10       25 non-null object\n",
      "amnt11       19 non-null object\n",
      "amnt12       13 non-null object\n",
      "amnt13       8 non-null object\n",
      "amnt14       6 non-null object\n",
      "amnt15       3 non-null object\n",
      "amnt16       2 non-null object\n",
      "amnt17       0 non-null float64\n",
      "amnt18       0 non-null float64\n",
      "amnt19       0 non-null float64\n",
      "amnt20       0 non-null float64\n",
      "amnt21       0 non-null float64\n",
      "amnt22       0 non-null float64\n",
      "amnt23       0 non-null float64\n",
      "amnt24       0 non-null float64\n",
      "amnt25       0 non-null float64\n",
      "transp1      823 non-null object\n",
      "transp2      823 non-null object\n",
      "transp3      823 non-null object\n",
      "transp4      823 non-null object\n",
      "transp5      822 non-null object\n",
      "desc         823 non-null object\n",
      "dtypes: float64(10), int64(1), object(33)\n",
      "memory usage: 283.0+ KB\n"
     ]
    }
   ],
   "source": [
    "df.info()"
   ]
  },
  {
   "cell_type": "code",
   "execution_count": 7,
   "metadata": {},
   "outputs": [],
   "source": [
    "# drop the columns that are not useful\n",
    "cols_to_drop = ['detail4','detail5','detail6','desc']\n",
    "\n",
    "for i in range(17, 26):\n",
    "    cols_to_drop.append('amnt' + str(i))\n",
    "    \n",
    "df.drop(columns = cols_to_drop, inplace = True)"
   ]
  },
  {
   "cell_type": "code",
   "execution_count": 8,
   "metadata": {},
   "outputs": [
    {
     "name": "stdout",
     "output_type": "stream",
     "text": [
      "<class 'pandas.core.frame.DataFrame'>\n",
      "RangeIndex: 823 entries, 0 to 822\n",
      "Data columns (total 31 columns):\n",
      "id           823 non-null int64\n",
      "bldname      823 non-null object\n",
      "address      823 non-null object\n",
      "detail1      801 non-null object\n",
      "detail2      803 non-null object\n",
      "detail3      811 non-null object\n",
      "detail2_1    775 non-null object\n",
      "amnthl1      212 non-null object\n",
      "amnthl2      136 non-null object\n",
      "amnthl3      63 non-null object\n",
      "amnt1        531 non-null object\n",
      "amnt2        182 non-null object\n",
      "amnt3        129 non-null object\n",
      "amnt4        103 non-null object\n",
      "amnt5        81 non-null object\n",
      "amnt6        60 non-null object\n",
      "amnt7        45 non-null object\n",
      "amnt8        41 non-null object\n",
      "amnt9        35 non-null object\n",
      "amnt10       25 non-null object\n",
      "amnt11       19 non-null object\n",
      "amnt12       13 non-null object\n",
      "amnt13       8 non-null object\n",
      "amnt14       6 non-null object\n",
      "amnt15       3 non-null object\n",
      "amnt16       2 non-null object\n",
      "transp1      823 non-null object\n",
      "transp2      823 non-null object\n",
      "transp3      823 non-null object\n",
      "transp4      823 non-null object\n",
      "transp5      822 non-null object\n",
      "dtypes: int64(1), object(30)\n",
      "memory usage: 199.4+ KB\n"
     ]
    }
   ],
   "source": [
    "df.info()"
   ]
  },
  {
   "cell_type": "code",
   "execution_count": 9,
   "metadata": {},
   "outputs": [],
   "source": [
    "# Only see the big picture, \n",
    "# i.e whether the amentity will influence the housing price, instead of analysing all the amentities \n",
    "# since the number of amentity columns is too much\n",
    "# So, if the amentity column is not na, I code it as score one, and add up the total amentity score.\n",
    "colname_lst = []\n",
    "for i in range(1,17):\n",
    "    colnam = 'amnt' + str(i)\n",
    "    colname_lst.append(colnam)\n",
    "df['other_ament_score'] = df[colname_lst].notna().sum(axis=1)"
   ]
  },
  {
   "cell_type": "code",
   "execution_count": 10,
   "metadata": {},
   "outputs": [],
   "source": [
    "col_to_drop = colname_lst \n",
    "df.drop(columns = colname_lst + ['bldname','address'], inplace = True)"
   ]
  },
  {
   "cell_type": "code",
   "execution_count": 11,
   "metadata": {},
   "outputs": [
    {
     "name": "stdout",
     "output_type": "stream",
     "text": [
      "<class 'pandas.core.frame.DataFrame'>\n",
      "RangeIndex: 823 entries, 0 to 822\n",
      "Data columns (total 14 columns):\n",
      "id                   823 non-null int64\n",
      "detail1              801 non-null object\n",
      "detail2              803 non-null object\n",
      "detail3              811 non-null object\n",
      "detail2_1            775 non-null object\n",
      "amnthl1              212 non-null object\n",
      "amnthl2              136 non-null object\n",
      "amnthl3              63 non-null object\n",
      "transp1              823 non-null object\n",
      "transp2              823 non-null object\n",
      "transp3              823 non-null object\n",
      "transp4              823 non-null object\n",
      "transp5              822 non-null object\n",
      "other_ament_score    823 non-null int64\n",
      "dtypes: int64(2), object(12)\n",
      "memory usage: 90.1+ KB\n"
     ]
    }
   ],
   "source": [
    "df.info()"
   ]
  },
  {
   "cell_type": "code",
   "execution_count": 12,
   "metadata": {},
   "outputs": [],
   "source": [
    "# Extract the distance (in miles) to transportation station from\n",
    "# transp1, transp2, transp3, transp4 and transp5\n",
    "# then take average\n",
    "df['trans1'] = df.transp1.str.extract('( [0-9][.]*[0-9]{1,2})', expand=True)\n",
    "df['trans2'] = df.transp2.str.extract('( [0-9][.]*[0-9]{1,2})', expand=True)\n",
    "df['trans3'] = df.transp3.str.extract('( [0-9][.]*[0-9]{1,2})', expand=True)\n",
    "df['trans4'] = df.transp4.str.extract('( [0-9][.]*[0-9]{1,2})', expand=True)\n",
    "df['trans5'] = df.transp5.str.extract('( [0-9][.]*[0-9]{1,2})', expand=True)\n",
    "\n",
    "# change the data type from object string to float\n",
    "df['trans1'] = pd.to_numeric(df.trans1)\n",
    "df['trans2'] = pd.to_numeric(df.trans2)\n",
    "df['trans3'] = pd.to_numeric(df.trans3)\n",
    "df['trans4'] = pd.to_numeric(df.trans4)\n",
    "df['trans5'] = pd.to_numeric(df.trans5)"
   ]
  },
  {
   "cell_type": "code",
   "execution_count": 13,
   "metadata": {},
   "outputs": [],
   "source": [
    "# if 500 (which means less than 500 feet not 500 miles, replace it by 0.1, since 500 feet is around 0.1 mile)\n",
    "df.trans1.replace(500.00,0.10, inplace = True)\n",
    "df.trans2.replace(500.00,0.10, inplace = True)\n",
    "df.trans3.replace(500.00,0.10, inplace = True)\n",
    "df.trans4.replace(500.00,0.10, inplace = True)\n",
    "df.trans5.replace(500.00,0.10, inplace = True)"
   ]
  },
  {
   "cell_type": "code",
   "execution_count": 14,
   "metadata": {},
   "outputs": [],
   "source": [
    "# Take average of the trans columns\n",
    "df['trans_average'] = df[['trans1','trans2','trans3','trans4','trans5']].mean(axis=1)"
   ]
  },
  {
   "cell_type": "code",
   "execution_count": 15,
   "metadata": {},
   "outputs": [],
   "source": [
    "# since we already used the 'trans_average' to represent building transportation convinience feature, drop the redundent features\n",
    "df.drop(columns=['transp1','transp2','transp3','transp4','transp5','trans1','trans2','trans3','trans4','trans5'], inplace = True)"
   ]
  },
  {
   "cell_type": "code",
   "execution_count": 16,
   "metadata": {},
   "outputs": [],
   "source": [
    "# reshape the higlighted amenities into tidy format\n",
    "df['Elevator'] = df.amnthl1.isin(['Elevator'])\n",
    "df['Elevator'] = df['Elevator'] + df.amnthl2.isin(['Elevator'])\n",
    "df['Elevator'] = df['Elevator'] + df.amnthl3.isin(['Elevator'])\n",
    "\n",
    "df['Doorman'] = df.amnthl1.isin(['Doorman', 'Full-time Doorman', 'Part-time Doorman'])\n",
    "df['Doorman'] = df['Doorman'] + df.amnthl2.isin(['Doorman', 'Full-time Doorman', 'Part-time Doorman'])\n",
    "df['Doorman'] = df['Doorman'] + df.amnthl3.isin(['Doorman', 'Full-time Doorman', 'Part-time Doorman'])\n",
    "\n",
    "df['PetsAllowed'] = df.amnthl1.isin(['Cats and Dogs Allowed', 'Pets Allowed'])\n",
    "df['PetsAllowed'] = df['PetsAllowed'] + df.amnthl2.isin(['Cats and Dogs Allowed', 'Pets Allowed'])\n",
    "df['PetsAllowed'] = df['PetsAllowed'] + df.amnthl3.isin(['Cats and Dogs Allowed', 'Pets Allowed'])"
   ]
  },
  {
   "cell_type": "code",
   "execution_count": 17,
   "metadata": {},
   "outputs": [],
   "source": [
    "df.Elevator.replace(False,0,inplace=True)\n",
    "df.Doorman.replace(False,0,inplace=True)\n",
    "df.PetsAllowed.replace(False,0,inplace=True)"
   ]
  },
  {
   "cell_type": "code",
   "execution_count": 18,
   "metadata": {},
   "outputs": [],
   "source": [
    "# Using regular expression to extract numbers in detail1 detail2 and detail3\n",
    "df['Num_unit'] = df.detail1.str.extract('([0-9]+)', expand=True)\n",
    "df['Num_story'] = df.detail2.str.extract('([0-9]+)', expand=True)\n",
    "df['Build_year'] = df.detail3.str.extract('([0-9]+)', expand=True)"
   ]
  },
  {
   "cell_type": "code",
   "execution_count": 19,
   "metadata": {},
   "outputs": [],
   "source": [
    "df.drop(columns = ['amnthl1','amnthl2','amnthl3','detail1','detail2','detail3'], inplace = True)"
   ]
  },
  {
   "cell_type": "code",
   "execution_count": 20,
   "metadata": {},
   "outputs": [],
   "source": [
    "# change the column name\n",
    "df_clean = df.rename(columns = {'detail2_1':'BuildingType'})"
   ]
  },
  {
   "cell_type": "code",
   "execution_count": 21,
   "metadata": {},
   "outputs": [],
   "source": [
    "df_clean['id'] = df_clean['id'].astype(str)"
   ]
  },
  {
   "cell_type": "code",
   "execution_count": 22,
   "metadata": {},
   "outputs": [
    {
     "name": "stdout",
     "output_type": "stream",
     "text": [
      "<class 'pandas.core.frame.DataFrame'>\n",
      "RangeIndex: 823 entries, 0 to 822\n",
      "Data columns (total 10 columns):\n",
      "id                   823 non-null object\n",
      "BuildingType         775 non-null object\n",
      "other_ament_score    823 non-null int64\n",
      "trans_average        823 non-null float64\n",
      "Elevator             823 non-null float64\n",
      "Doorman              823 non-null float64\n",
      "PetsAllowed          823 non-null float64\n",
      "Num_unit             794 non-null object\n",
      "Num_story            802 non-null object\n",
      "Build_year           808 non-null object\n",
      "dtypes: float64(4), int64(1), object(5)\n",
      "memory usage: 64.4+ KB\n"
     ]
    }
   ],
   "source": [
    "df_clean.info()"
   ]
  },
  {
   "cell_type": "code",
   "execution_count": 23,
   "metadata": {},
   "outputs": [
    {
     "data": {
      "text/plain": [
       "(823, 10)"
      ]
     },
     "execution_count": 23,
     "metadata": {},
     "output_type": "execute_result"
    }
   ],
   "source": [
    "df_clean.shape"
   ]
  },
  {
   "cell_type": "code",
   "execution_count": 24,
   "metadata": {},
   "outputs": [
    {
     "data": {
      "text/html": [
       "<div>\n",
       "<style scoped>\n",
       "    .dataframe tbody tr th:only-of-type {\n",
       "        vertical-align: middle;\n",
       "    }\n",
       "\n",
       "    .dataframe tbody tr th {\n",
       "        vertical-align: top;\n",
       "    }\n",
       "\n",
       "    .dataframe thead th {\n",
       "        text-align: right;\n",
       "    }\n",
       "</style>\n",
       "<table border=\"1\" class=\"dataframe\">\n",
       "  <thead>\n",
       "    <tr style=\"text-align: right;\">\n",
       "      <th></th>\n",
       "      <th>id</th>\n",
       "      <th>BuildingType</th>\n",
       "      <th>other_ament_score</th>\n",
       "      <th>trans_average</th>\n",
       "      <th>Elevator</th>\n",
       "      <th>Doorman</th>\n",
       "      <th>PetsAllowed</th>\n",
       "      <th>Num_unit</th>\n",
       "      <th>Num_story</th>\n",
       "      <th>Build_year</th>\n",
       "    </tr>\n",
       "  </thead>\n",
       "  <tbody>\n",
       "    <tr>\n",
       "      <th>0</th>\n",
       "      <td>70863</td>\n",
       "      <td>Rental Building</td>\n",
       "      <td>1</td>\n",
       "      <td>0.214</td>\n",
       "      <td>0.0</td>\n",
       "      <td>0.0</td>\n",
       "      <td>0.0</td>\n",
       "      <td>1</td>\n",
       "      <td>4</td>\n",
       "      <td>1915</td>\n",
       "    </tr>\n",
       "    <tr>\n",
       "      <th>1</th>\n",
       "      <td>70872</td>\n",
       "      <td>Mixed-Use Building</td>\n",
       "      <td>1</td>\n",
       "      <td>0.318</td>\n",
       "      <td>0.0</td>\n",
       "      <td>0.0</td>\n",
       "      <td>0.0</td>\n",
       "      <td>2</td>\n",
       "      <td>5</td>\n",
       "      <td>1915</td>\n",
       "    </tr>\n",
       "    <tr>\n",
       "      <th>2</th>\n",
       "      <td>70962</td>\n",
       "      <td>Co-op</td>\n",
       "      <td>3</td>\n",
       "      <td>0.372</td>\n",
       "      <td>0.0</td>\n",
       "      <td>0.0</td>\n",
       "      <td>0.0</td>\n",
       "      <td>1</td>\n",
       "      <td>2</td>\n",
       "      <td>1920</td>\n",
       "    </tr>\n",
       "    <tr>\n",
       "      <th>3</th>\n",
       "      <td>70968</td>\n",
       "      <td>Rental Building</td>\n",
       "      <td>1</td>\n",
       "      <td>0.600</td>\n",
       "      <td>0.0</td>\n",
       "      <td>0.0</td>\n",
       "      <td>0.0</td>\n",
       "      <td>2</td>\n",
       "      <td>3</td>\n",
       "      <td>1901</td>\n",
       "    </tr>\n",
       "    <tr>\n",
       "      <th>4</th>\n",
       "      <td>70976</td>\n",
       "      <td>Mixed-Use Building</td>\n",
       "      <td>1</td>\n",
       "      <td>0.710</td>\n",
       "      <td>0.0</td>\n",
       "      <td>0.0</td>\n",
       "      <td>0.0</td>\n",
       "      <td>1</td>\n",
       "      <td>3</td>\n",
       "      <td>1940</td>\n",
       "    </tr>\n",
       "    <tr>\n",
       "      <th>5</th>\n",
       "      <td>70979</td>\n",
       "      <td>Three-Family Home</td>\n",
       "      <td>1</td>\n",
       "      <td>0.652</td>\n",
       "      <td>0.0</td>\n",
       "      <td>0.0</td>\n",
       "      <td>0.0</td>\n",
       "      <td>3</td>\n",
       "      <td>4</td>\n",
       "      <td>1899</td>\n",
       "    </tr>\n",
       "    <tr>\n",
       "      <th>6</th>\n",
       "      <td>70997</td>\n",
       "      <td>Rental Building</td>\n",
       "      <td>1</td>\n",
       "      <td>0.570</td>\n",
       "      <td>0.0</td>\n",
       "      <td>0.0</td>\n",
       "      <td>0.0</td>\n",
       "      <td>3</td>\n",
       "      <td>3</td>\n",
       "      <td>1939</td>\n",
       "    </tr>\n",
       "    <tr>\n",
       "      <th>7</th>\n",
       "      <td>71007</td>\n",
       "      <td>Condo</td>\n",
       "      <td>1</td>\n",
       "      <td>3.170</td>\n",
       "      <td>1.0</td>\n",
       "      <td>0.0</td>\n",
       "      <td>1.0</td>\n",
       "      <td>5</td>\n",
       "      <td>6</td>\n",
       "      <td>2007</td>\n",
       "    </tr>\n",
       "    <tr>\n",
       "      <th>8</th>\n",
       "      <td>71028</td>\n",
       "      <td>Rental Building</td>\n",
       "      <td>1</td>\n",
       "      <td>0.400</td>\n",
       "      <td>0.0</td>\n",
       "      <td>0.0</td>\n",
       "      <td>0.0</td>\n",
       "      <td>2</td>\n",
       "      <td>4</td>\n",
       "      <td>1899</td>\n",
       "    </tr>\n",
       "    <tr>\n",
       "      <th>9</th>\n",
       "      <td>71031</td>\n",
       "      <td>Condo</td>\n",
       "      <td>1</td>\n",
       "      <td>0.384</td>\n",
       "      <td>0.0</td>\n",
       "      <td>0.0</td>\n",
       "      <td>0.0</td>\n",
       "      <td>2</td>\n",
       "      <td>3</td>\n",
       "      <td>1900</td>\n",
       "    </tr>\n",
       "    <tr>\n",
       "      <th>10</th>\n",
       "      <td>71035</td>\n",
       "      <td>Mixed-Use Building</td>\n",
       "      <td>1</td>\n",
       "      <td>3.084</td>\n",
       "      <td>0.0</td>\n",
       "      <td>0.0</td>\n",
       "      <td>0.0</td>\n",
       "      <td>2</td>\n",
       "      <td>4</td>\n",
       "      <td>1901</td>\n",
       "    </tr>\n",
       "    <tr>\n",
       "      <th>11</th>\n",
       "      <td>71061</td>\n",
       "      <td>Two-Family Home</td>\n",
       "      <td>0</td>\n",
       "      <td>0.292</td>\n",
       "      <td>0.0</td>\n",
       "      <td>0.0</td>\n",
       "      <td>0.0</td>\n",
       "      <td>2</td>\n",
       "      <td>3</td>\n",
       "      <td>1899</td>\n",
       "    </tr>\n",
       "    <tr>\n",
       "      <th>12</th>\n",
       "      <td>71064</td>\n",
       "      <td>Rental Building</td>\n",
       "      <td>0</td>\n",
       "      <td>0.274</td>\n",
       "      <td>0.0</td>\n",
       "      <td>0.0</td>\n",
       "      <td>0.0</td>\n",
       "      <td>3</td>\n",
       "      <td>3</td>\n",
       "      <td>1900</td>\n",
       "    </tr>\n",
       "    <tr>\n",
       "      <th>13</th>\n",
       "      <td>71078</td>\n",
       "      <td>NaN</td>\n",
       "      <td>0</td>\n",
       "      <td>2.982</td>\n",
       "      <td>0.0</td>\n",
       "      <td>0.0</td>\n",
       "      <td>0.0</td>\n",
       "      <td>NaN</td>\n",
       "      <td>5</td>\n",
       "      <td>1899</td>\n",
       "    </tr>\n",
       "    <tr>\n",
       "      <th>14</th>\n",
       "      <td>71080</td>\n",
       "      <td>Rental Building</td>\n",
       "      <td>0</td>\n",
       "      <td>2.980</td>\n",
       "      <td>0.0</td>\n",
       "      <td>0.0</td>\n",
       "      <td>0.0</td>\n",
       "      <td>3</td>\n",
       "      <td>5</td>\n",
       "      <td>1899</td>\n",
       "    </tr>\n",
       "  </tbody>\n",
       "</table>\n",
       "</div>"
      ],
      "text/plain": [
       "       id        BuildingType  other_ament_score  trans_average  Elevator  \\\n",
       "0   70863     Rental Building                  1          0.214       0.0   \n",
       "1   70872  Mixed-Use Building                  1          0.318       0.0   \n",
       "2   70962               Co-op                  3          0.372       0.0   \n",
       "3   70968     Rental Building                  1          0.600       0.0   \n",
       "4   70976  Mixed-Use Building                  1          0.710       0.0   \n",
       "5   70979   Three-Family Home                  1          0.652       0.0   \n",
       "6   70997     Rental Building                  1          0.570       0.0   \n",
       "7   71007               Condo                  1          3.170       1.0   \n",
       "8   71028     Rental Building                  1          0.400       0.0   \n",
       "9   71031               Condo                  1          0.384       0.0   \n",
       "10  71035  Mixed-Use Building                  1          3.084       0.0   \n",
       "11  71061     Two-Family Home                  0          0.292       0.0   \n",
       "12  71064     Rental Building                  0          0.274       0.0   \n",
       "13  71078                 NaN                  0          2.982       0.0   \n",
       "14  71080     Rental Building                  0          2.980       0.0   \n",
       "\n",
       "    Doorman  PetsAllowed Num_unit Num_story Build_year  \n",
       "0       0.0          0.0        1         4       1915  \n",
       "1       0.0          0.0        2         5       1915  \n",
       "2       0.0          0.0        1         2       1920  \n",
       "3       0.0          0.0        2         3       1901  \n",
       "4       0.0          0.0        1         3       1940  \n",
       "5       0.0          0.0        3         4       1899  \n",
       "6       0.0          0.0        3         3       1939  \n",
       "7       0.0          1.0        5         6       2007  \n",
       "8       0.0          0.0        2         4       1899  \n",
       "9       0.0          0.0        2         3       1900  \n",
       "10      0.0          0.0        2         4       1901  \n",
       "11      0.0          0.0        2         3       1899  \n",
       "12      0.0          0.0        3         3       1900  \n",
       "13      0.0          0.0      NaN         5       1899  \n",
       "14      0.0          0.0        3         5       1899  "
      ]
     },
     "execution_count": 24,
     "metadata": {},
     "output_type": "execute_result"
    }
   ],
   "source": [
    "df_clean.head(15)"
   ]
  },
  {
   "cell_type": "code",
   "execution_count": 25,
   "metadata": {},
   "outputs": [],
   "source": [
    "# Get all the 573 files in the 'apt_detail' file\n",
    "## Should change this path if running on a different computer!\n",
    "# path = 'apt_detail'\n",
    "# all_files = glob.glob(path +\"/*.csv\")\n",
    "all_files = glob.glob(\"*.csv\")"
   ]
  },
  {
   "cell_type": "code",
   "execution_count": 26,
   "metadata": {},
   "outputs": [],
   "source": [
    "# Add id lable to each of the 573 csv files and concat them to together into df_csv\n",
    "df_csv = pd.DataFrame(columns=[0, 1, 2, 3, 4, 'id'])\n",
    "for filename in all_files:\n",
    "    csv_name = re.search('([0-9]+\\.csv)', filename).group(1)\n",
    "    dataframe = pd.read_csv(csv_name, header=None)\n",
    "    dataframe['id'] = csv_name[0:-4]\n",
    "    df_csv = df_csv.append(dataframe)"
   ]
  },
  {
   "cell_type": "code",
   "execution_count": 27,
   "metadata": {},
   "outputs": [
    {
     "data": {
      "text/plain": [
       "(24046, 6)"
      ]
     },
     "execution_count": 27,
     "metadata": {},
     "output_type": "execute_result"
    }
   ],
   "source": [
    "df_csv.shape"
   ]
  },
  {
   "cell_type": "code",
   "execution_count": 28,
   "metadata": {},
   "outputs": [
    {
     "data": {
      "text/html": [
       "<div>\n",
       "<style scoped>\n",
       "    .dataframe tbody tr th:only-of-type {\n",
       "        vertical-align: middle;\n",
       "    }\n",
       "\n",
       "    .dataframe tbody tr th {\n",
       "        vertical-align: top;\n",
       "    }\n",
       "\n",
       "    .dataframe thead th {\n",
       "        text-align: right;\n",
       "    }\n",
       "</style>\n",
       "<table border=\"1\" class=\"dataframe\">\n",
       "  <thead>\n",
       "    <tr style=\"text-align: right;\">\n",
       "      <th></th>\n",
       "      <th>0</th>\n",
       "      <th>1</th>\n",
       "      <th>2</th>\n",
       "      <th>3</th>\n",
       "      <th>4</th>\n",
       "      <th>id</th>\n",
       "    </tr>\n",
       "  </thead>\n",
       "  <tbody>\n",
       "    <tr>\n",
       "      <th>0</th>\n",
       "      <td>#1</td>\n",
       "      <td>Off-Market on 09/10/2013 at $3,425</td>\n",
       "      <td>3 beds</td>\n",
       "      <td>1 bath</td>\n",
       "      <td>1,000 ftsq</td>\n",
       "      <td>777217</td>\n",
       "    </tr>\n",
       "    <tr>\n",
       "      <th>1</th>\n",
       "      <td>#2</td>\n",
       "      <td>Off-Market on 03/09/2011 at $2,650</td>\n",
       "      <td>2 beds</td>\n",
       "      <td>1 bath</td>\n",
       "      <td>NaN</td>\n",
       "      <td>777217</td>\n",
       "    </tr>\n",
       "    <tr>\n",
       "      <th>2</th>\n",
       "      <td>#4</td>\n",
       "      <td>Off-Market on 10/20/2013 at $3,050</td>\n",
       "      <td>3 beds</td>\n",
       "      <td>1 bath</td>\n",
       "      <td>800 ftsq</td>\n",
       "      <td>777217</td>\n",
       "    </tr>\n",
       "    <tr>\n",
       "      <th>3</th>\n",
       "      <td>#6B</td>\n",
       "      <td>Off-Market on 08/01/2013 at $3,050</td>\n",
       "      <td>2 beds</td>\n",
       "      <td>1 bath</td>\n",
       "      <td>NaN</td>\n",
       "      <td>777217</td>\n",
       "    </tr>\n",
       "    <tr>\n",
       "      <th>4</th>\n",
       "      <td>#8B</td>\n",
       "      <td>Off-Market on 12/20/2013 at $3,025</td>\n",
       "      <td>1 bed</td>\n",
       "      <td>1 bath</td>\n",
       "      <td>NaN</td>\n",
       "      <td>777217</td>\n",
       "    </tr>\n",
       "  </tbody>\n",
       "</table>\n",
       "</div>"
      ],
      "text/plain": [
       "     0                                   1       2       3           4      id\n",
       "0   #1  Off-Market on 09/10/2013 at $3,425  3 beds  1 bath  1,000 ftsq  777217\n",
       "1   #2  Off-Market on 03/09/2011 at $2,650  2 beds  1 bath         NaN  777217\n",
       "2   #4  Off-Market on 10/20/2013 at $3,050  3 beds  1 bath    800 ftsq  777217\n",
       "3  #6B  Off-Market on 08/01/2013 at $3,050  2 beds  1 bath         NaN  777217\n",
       "4  #8B  Off-Market on 12/20/2013 at $3,025   1 bed  1 bath         NaN  777217"
      ]
     },
     "execution_count": 28,
     "metadata": {},
     "output_type": "execute_result"
    }
   ],
   "source": [
    "df_csv.head()"
   ]
  },
  {
   "cell_type": "code",
   "execution_count": 29,
   "metadata": {},
   "outputs": [],
   "source": [
    "# merge the concatenated csv file and the maid data frame together\n",
    "df_clean = pd.merge(df_clean, df_csv, on = 'id', how = 'outer')"
   ]
  },
  {
   "cell_type": "code",
   "execution_count": 30,
   "metadata": {},
   "outputs": [
    {
     "data": {
      "text/plain": [
       "(24296, 15)"
      ]
     },
     "execution_count": 30,
     "metadata": {},
     "output_type": "execute_result"
    }
   ],
   "source": [
    "df_clean.shape"
   ]
  },
  {
   "cell_type": "code",
   "execution_count": 31,
   "metadata": {},
   "outputs": [
    {
     "data": {
      "text/html": [
       "<div>\n",
       "<style scoped>\n",
       "    .dataframe tbody tr th:only-of-type {\n",
       "        vertical-align: middle;\n",
       "    }\n",
       "\n",
       "    .dataframe tbody tr th {\n",
       "        vertical-align: top;\n",
       "    }\n",
       "\n",
       "    .dataframe thead th {\n",
       "        text-align: right;\n",
       "    }\n",
       "</style>\n",
       "<table border=\"1\" class=\"dataframe\">\n",
       "  <thead>\n",
       "    <tr style=\"text-align: right;\">\n",
       "      <th></th>\n",
       "      <th>id</th>\n",
       "      <th>BuildingType</th>\n",
       "      <th>other_ament_score</th>\n",
       "      <th>trans_average</th>\n",
       "      <th>Elevator</th>\n",
       "      <th>Doorman</th>\n",
       "      <th>PetsAllowed</th>\n",
       "      <th>Num_unit</th>\n",
       "      <th>Num_story</th>\n",
       "      <th>Build_year</th>\n",
       "      <th>0</th>\n",
       "      <th>1</th>\n",
       "      <th>2</th>\n",
       "      <th>3</th>\n",
       "      <th>4</th>\n",
       "    </tr>\n",
       "  </thead>\n",
       "  <tbody>\n",
       "    <tr>\n",
       "      <th>0</th>\n",
       "      <td>70863</td>\n",
       "      <td>Rental Building</td>\n",
       "      <td>1</td>\n",
       "      <td>0.214</td>\n",
       "      <td>0.0</td>\n",
       "      <td>0.0</td>\n",
       "      <td>0.0</td>\n",
       "      <td>1</td>\n",
       "      <td>4</td>\n",
       "      <td>1915</td>\n",
       "      <td>#1</td>\n",
       "      <td>Off-Market on 08/12/2011 at $35,000</td>\n",
       "      <td>4 beds</td>\n",
       "      <td>4 baths</td>\n",
       "      <td>6,435 ftsq</td>\n",
       "    </tr>\n",
       "    <tr>\n",
       "      <th>1</th>\n",
       "      <td>70872</td>\n",
       "      <td>Mixed-Use Building</td>\n",
       "      <td>1</td>\n",
       "      <td>0.318</td>\n",
       "      <td>0.0</td>\n",
       "      <td>0.0</td>\n",
       "      <td>0.0</td>\n",
       "      <td>2</td>\n",
       "      <td>5</td>\n",
       "      <td>1915</td>\n",
       "      <td>#345</td>\n",
       "      <td>Off-Market on 06/22/2009 at $7,800</td>\n",
       "      <td>studio</td>\n",
       "      <td>1 bath</td>\n",
       "      <td>3,000 ftsq</td>\n",
       "    </tr>\n",
       "    <tr>\n",
       "      <th>2</th>\n",
       "      <td>70872</td>\n",
       "      <td>Mixed-Use Building</td>\n",
       "      <td>1</td>\n",
       "      <td>0.318</td>\n",
       "      <td>0.0</td>\n",
       "      <td>0.0</td>\n",
       "      <td>0.0</td>\n",
       "      <td>2</td>\n",
       "      <td>5</td>\n",
       "      <td>1915</td>\n",
       "      <td>#THOUSE</td>\n",
       "      <td>Off-Market on 03/03/2017 at $18,745</td>\n",
       "      <td>4 beds</td>\n",
       "      <td>4.5 baths</td>\n",
       "      <td>4,400 ftsq</td>\n",
       "    </tr>\n",
       "    <tr>\n",
       "      <th>3</th>\n",
       "      <td>70962</td>\n",
       "      <td>Co-op</td>\n",
       "      <td>3</td>\n",
       "      <td>0.372</td>\n",
       "      <td>0.0</td>\n",
       "      <td>0.0</td>\n",
       "      <td>0.0</td>\n",
       "      <td>1</td>\n",
       "      <td>2</td>\n",
       "      <td>1920</td>\n",
       "      <td>#2FE</td>\n",
       "      <td>Sold on 10/20/2011 for $250,000</td>\n",
       "      <td>studio</td>\n",
       "      <td>1 bath</td>\n",
       "      <td>NaN</td>\n",
       "    </tr>\n",
       "    <tr>\n",
       "      <th>4</th>\n",
       "      <td>70962</td>\n",
       "      <td>Co-op</td>\n",
       "      <td>3</td>\n",
       "      <td>0.372</td>\n",
       "      <td>0.0</td>\n",
       "      <td>0.0</td>\n",
       "      <td>0.0</td>\n",
       "      <td>1</td>\n",
       "      <td>2</td>\n",
       "      <td>1920</td>\n",
       "      <td>#4B</td>\n",
       "      <td>Off-Market on 12/12/2016 at $2,600</td>\n",
       "      <td>studio</td>\n",
       "      <td>1 bath</td>\n",
       "      <td>600 ftsq</td>\n",
       "    </tr>\n",
       "  </tbody>\n",
       "</table>\n",
       "</div>"
      ],
      "text/plain": [
       "      id        BuildingType  other_ament_score  trans_average  Elevator  \\\n",
       "0  70863     Rental Building                  1          0.214       0.0   \n",
       "1  70872  Mixed-Use Building                  1          0.318       0.0   \n",
       "2  70872  Mixed-Use Building                  1          0.318       0.0   \n",
       "3  70962               Co-op                  3          0.372       0.0   \n",
       "4  70962               Co-op                  3          0.372       0.0   \n",
       "\n",
       "   Doorman  PetsAllowed Num_unit Num_story Build_year        0  \\\n",
       "0      0.0          0.0        1         4       1915       #1   \n",
       "1      0.0          0.0        2         5       1915     #345   \n",
       "2      0.0          0.0        2         5       1915  #THOUSE   \n",
       "3      0.0          0.0        1         2       1920     #2FE   \n",
       "4      0.0          0.0        1         2       1920      #4B   \n",
       "\n",
       "                                     1       2          3           4  \n",
       "0  Off-Market on 08/12/2011 at $35,000  4 beds    4 baths  6,435 ftsq  \n",
       "1   Off-Market on 06/22/2009 at $7,800  studio     1 bath  3,000 ftsq  \n",
       "2  Off-Market on 03/03/2017 at $18,745  4 beds  4.5 baths  4,400 ftsq  \n",
       "3      Sold on 10/20/2011 for $250,000  studio     1 bath         NaN  \n",
       "4   Off-Market on 12/12/2016 at $2,600  studio     1 bath    600 ftsq  "
      ]
     },
     "execution_count": 31,
     "metadata": {},
     "output_type": "execute_result"
    }
   ],
   "source": [
    "df_clean.head()"
   ]
  },
  {
   "cell_type": "code",
   "execution_count": 32,
   "metadata": {},
   "outputs": [],
   "source": [
    "# rename the columns\n",
    "df_clean.rename(columns = {0:'Floor', 1:'Sold_price', 2:'Num_bedroom', 3:'Num_bathroom',4:'SquareFeet'}, inplace = True)"
   ]
  },
  {
   "cell_type": "code",
   "execution_count": 33,
   "metadata": {},
   "outputs": [],
   "source": [
    "# add a new column indicating whether the room is studio or not, and set studio in the Num_bedroom to be 1\n",
    "df_clean['Studio'] = df_clean['Num_bedroom'].isin(['studio'])\n",
    "df_clean.Studio.replace(False, 0, inplace=True)\n",
    "\n",
    "# set studio in the Num_bedroom to be 1\n",
    "df_clean.Num_bedroom.replace('studio', 1, inplace = True)"
   ]
  },
  {
   "cell_type": "code",
   "execution_count": 34,
   "metadata": {},
   "outputs": [],
   "source": [
    "### Extract the numbers in the columns: Num_bedroom, Num_bathroom, SquareFeet\n",
    "\n",
    "# Num_bedroom\n",
    "df_clean.Num_bedroom = df_clean.Num_bedroom.astype(str)\n",
    "df_clean['Num_bedroom'] = df_clean.Num_bedroom.str.extract('([0-9.]+)', expand=True)\n",
    "\n",
    "# Num_bathroom\n",
    "df_clean['Num_bathroom'] = df_clean.Num_bathroom.str.extract('([0-9.]+)', expand=True)\n",
    "\n",
    "# SquareFeet\n",
    "df_clean.SquareFeet.replace('[,]','',regex=True, inplace = True)\n",
    "df_clean['SquareFeet'] = df_clean.SquareFeet.str.extract('([0-9.,]+)', expand=True)\n",
    "\n",
    "# change the data type of Num_bedroom, Num_bathroom, SquareFeet to float\n",
    "df_clean.Num_bedroom = df_clean.Num_bedroom.astype(float)\n",
    "df_clean.Num_bathroom = df_clean.Num_bathroom.astype(float)\n",
    "df_clean.SquareFeet = df_clean.SquareFeet.astype(float)"
   ]
  },
  {
   "cell_type": "code",
   "execution_count": 35,
   "metadata": {},
   "outputs": [],
   "source": [
    "# Extract the floor number\n",
    "df_clean['Floor'] = df_clean.Floor.str.extract('([0-9.]+)', expand=True)\n",
    "df_clean.Floor = df_clean.Floor.astype(float)"
   ]
  },
  {
   "cell_type": "code",
   "execution_count": 36,
   "metadata": {},
   "outputs": [],
   "source": [
    "# Since there are a lot of very big numbers in the Floor column, \n",
    "# I suspect my understanding of this column may be incorrect,\n",
    "# If I have more time I will investigate more on this issue\n",
    "# For now, I decide to leave it out first\n",
    "len(df_clean[df_clean['Floor'] > 50])\n",
    "df_analysis = df_clean.drop(columns = ['Floor'])"
   ]
  },
  {
   "cell_type": "code",
   "execution_count": 37,
   "metadata": {},
   "outputs": [],
   "source": [
    "# Extract the sold price, since we need to use the sold price as the dependent variable when training the model\n",
    "# abandon the off-market ones for now, since it's just the suggested price not the actual sold price\n",
    "df_analysis = df_analysis[df_analysis['Sold_price'].str.contains('Sold') == True]"
   ]
  },
  {
   "cell_type": "code",
   "execution_count": 38,
   "metadata": {},
   "outputs": [
    {
     "data": {
      "text/html": [
       "<div>\n",
       "<style scoped>\n",
       "    .dataframe tbody tr th:only-of-type {\n",
       "        vertical-align: middle;\n",
       "    }\n",
       "\n",
       "    .dataframe tbody tr th {\n",
       "        vertical-align: top;\n",
       "    }\n",
       "\n",
       "    .dataframe thead th {\n",
       "        text-align: right;\n",
       "    }\n",
       "</style>\n",
       "<table border=\"1\" class=\"dataframe\">\n",
       "  <thead>\n",
       "    <tr style=\"text-align: right;\">\n",
       "      <th></th>\n",
       "      <th>id</th>\n",
       "      <th>BuildingType</th>\n",
       "      <th>other_ament_score</th>\n",
       "      <th>trans_average</th>\n",
       "      <th>Elevator</th>\n",
       "      <th>Doorman</th>\n",
       "      <th>PetsAllowed</th>\n",
       "      <th>Num_unit</th>\n",
       "      <th>Num_story</th>\n",
       "      <th>Build_year</th>\n",
       "      <th>Sold_price</th>\n",
       "      <th>Num_bedroom</th>\n",
       "      <th>Num_bathroom</th>\n",
       "      <th>SquareFeet</th>\n",
       "      <th>Studio</th>\n",
       "    </tr>\n",
       "  </thead>\n",
       "  <tbody>\n",
       "    <tr>\n",
       "      <th>3</th>\n",
       "      <td>70962</td>\n",
       "      <td>Co-op</td>\n",
       "      <td>3</td>\n",
       "      <td>0.372</td>\n",
       "      <td>0.0</td>\n",
       "      <td>0.0</td>\n",
       "      <td>0.0</td>\n",
       "      <td>1</td>\n",
       "      <td>2</td>\n",
       "      <td>1920</td>\n",
       "      <td>Sold on 10/20/2011 for $250,000</td>\n",
       "      <td>1.0</td>\n",
       "      <td>1.0</td>\n",
       "      <td>NaN</td>\n",
       "      <td>1.0</td>\n",
       "    </tr>\n",
       "    <tr>\n",
       "      <th>20</th>\n",
       "      <td>71007</td>\n",
       "      <td>Condo</td>\n",
       "      <td>1</td>\n",
       "      <td>3.170</td>\n",
       "      <td>1.0</td>\n",
       "      <td>0.0</td>\n",
       "      <td>1.0</td>\n",
       "      <td>5</td>\n",
       "      <td>6</td>\n",
       "      <td>2007</td>\n",
       "      <td>Sold on 04/15/2014 for $1</td>\n",
       "      <td>NaN</td>\n",
       "      <td>NaN</td>\n",
       "      <td>NaN</td>\n",
       "      <td>0.0</td>\n",
       "    </tr>\n",
       "    <tr>\n",
       "      <th>21</th>\n",
       "      <td>71007</td>\n",
       "      <td>Condo</td>\n",
       "      <td>1</td>\n",
       "      <td>3.170</td>\n",
       "      <td>1.0</td>\n",
       "      <td>0.0</td>\n",
       "      <td>1.0</td>\n",
       "      <td>5</td>\n",
       "      <td>6</td>\n",
       "      <td>2007</td>\n",
       "      <td>Sold on 03/16/2009 for $1,525,000</td>\n",
       "      <td>2.0</td>\n",
       "      <td>2.0</td>\n",
       "      <td>1295.0</td>\n",
       "      <td>0.0</td>\n",
       "    </tr>\n",
       "    <tr>\n",
       "      <th>24</th>\n",
       "      <td>71007</td>\n",
       "      <td>Condo</td>\n",
       "      <td>1</td>\n",
       "      <td>3.170</td>\n",
       "      <td>1.0</td>\n",
       "      <td>0.0</td>\n",
       "      <td>1.0</td>\n",
       "      <td>5</td>\n",
       "      <td>6</td>\n",
       "      <td>2007</td>\n",
       "      <td>Sold on 03/12/2009 for $1,221,900</td>\n",
       "      <td>2.0</td>\n",
       "      <td>2.0</td>\n",
       "      <td>1295.0</td>\n",
       "      <td>0.0</td>\n",
       "    </tr>\n",
       "    <tr>\n",
       "      <th>26</th>\n",
       "      <td>71007</td>\n",
       "      <td>Condo</td>\n",
       "      <td>1</td>\n",
       "      <td>3.170</td>\n",
       "      <td>1.0</td>\n",
       "      <td>0.0</td>\n",
       "      <td>1.0</td>\n",
       "      <td>5</td>\n",
       "      <td>6</td>\n",
       "      <td>2007</td>\n",
       "      <td>Sold on 05/15/2017 for $1,875,000</td>\n",
       "      <td>NaN</td>\n",
       "      <td>NaN</td>\n",
       "      <td>NaN</td>\n",
       "      <td>0.0</td>\n",
       "    </tr>\n",
       "  </tbody>\n",
       "</table>\n",
       "</div>"
      ],
      "text/plain": [
       "       id BuildingType  other_ament_score  trans_average  Elevator  Doorman  \\\n",
       "3   70962        Co-op                  3          0.372       0.0      0.0   \n",
       "20  71007        Condo                  1          3.170       1.0      0.0   \n",
       "21  71007        Condo                  1          3.170       1.0      0.0   \n",
       "24  71007        Condo                  1          3.170       1.0      0.0   \n",
       "26  71007        Condo                  1          3.170       1.0      0.0   \n",
       "\n",
       "    PetsAllowed Num_unit Num_story Build_year  \\\n",
       "3           0.0        1         2       1920   \n",
       "20          1.0        5         6       2007   \n",
       "21          1.0        5         6       2007   \n",
       "24          1.0        5         6       2007   \n",
       "26          1.0        5         6       2007   \n",
       "\n",
       "                           Sold_price  Num_bedroom  Num_bathroom  SquareFeet  \\\n",
       "3     Sold on 10/20/2011 for $250,000          1.0           1.0         NaN   \n",
       "20          Sold on 04/15/2014 for $1          NaN           NaN         NaN   \n",
       "21  Sold on 03/16/2009 for $1,525,000          2.0           2.0      1295.0   \n",
       "24  Sold on 03/12/2009 for $1,221,900          2.0           2.0      1295.0   \n",
       "26  Sold on 05/15/2017 for $1,875,000          NaN           NaN         NaN   \n",
       "\n",
       "    Studio  \n",
       "3      1.0  \n",
       "20     0.0  \n",
       "21     0.0  \n",
       "24     0.0  \n",
       "26     0.0  "
      ]
     },
     "execution_count": 38,
     "metadata": {},
     "output_type": "execute_result"
    }
   ],
   "source": [
    "df_analysis.head()"
   ]
  },
  {
   "cell_type": "code",
   "execution_count": 39,
   "metadata": {},
   "outputs": [],
   "source": [
    "df_analysis.drop(df_analysis[df_analysis['SquareFeet'] > 50000].index, axis=0, inplace=True)"
   ]
  },
  {
   "cell_type": "code",
   "execution_count": 40,
   "metadata": {},
   "outputs": [],
   "source": [
    "# Extract the sold price number\n",
    "df_analysis['Sold_price'] = df_analysis.Sold_price.str.extract('(\\$[0-9,.]+)', expand=True)\n",
    "\n",
    "# get rid of the dollar sign and comma\n",
    "df_analysis.Sold_price.replace('[\\$,]','',regex=True, inplace = True)\n",
    "\n",
    "# change the data type to float\n",
    "df_analysis.Sold_price = df_analysis.Sold_price.astype(float)"
   ]
  },
  {
   "cell_type": "code",
   "execution_count": 41,
   "metadata": {},
   "outputs": [],
   "source": [
    "# final check before the analysis: change the other columns into the right data type\n",
    "df_analysis.Num_unit = df_analysis.Num_unit.astype(float)\n",
    "df_analysis.Num_story = df_analysis.Num_story.astype(float)\n",
    "df_analysis.Build_year = df_analysis.Build_year.astype(float)"
   ]
  },
  {
   "cell_type": "markdown",
   "metadata": {},
   "source": [
    "# Check the dataframe for analysis"
   ]
  },
  {
   "cell_type": "code",
   "execution_count": 42,
   "metadata": {},
   "outputs": [
    {
     "name": "stdout",
     "output_type": "stream",
     "text": [
      "<class 'pandas.core.frame.DataFrame'>\n",
      "Int64Index: 5776 entries, 3 to 24090\n",
      "Data columns (total 15 columns):\n",
      "id                   5776 non-null object\n",
      "BuildingType         5771 non-null object\n",
      "other_ament_score    5776 non-null int64\n",
      "trans_average        5776 non-null float64\n",
      "Elevator             5776 non-null float64\n",
      "Doorman              5776 non-null float64\n",
      "PetsAllowed          5776 non-null float64\n",
      "Num_unit             5707 non-null float64\n",
      "Num_story            5558 non-null float64\n",
      "Build_year           5754 non-null float64\n",
      "Sold_price           5776 non-null float64\n",
      "Num_bedroom          3066 non-null float64\n",
      "Num_bathroom         3054 non-null float64\n",
      "SquareFeet           4207 non-null float64\n",
      "Studio               5776 non-null float64\n",
      "dtypes: float64(12), int64(1), object(2)\n",
      "memory usage: 722.0+ KB\n"
     ]
    }
   ],
   "source": [
    "df_analysis.info()"
   ]
  },
  {
   "cell_type": "code",
   "execution_count": 43,
   "metadata": {},
   "outputs": [],
   "source": [
    "# Since there are a lot of values which are not feasible, \n",
    "# i.e. not quite possible to sell the house for $0 or $1 or $ 400\n",
    "# So I just recode these values as NaN in order to not let this outliers influence the analysis\n",
    "df_analysis['Sold_price'].values[df_analysis['Sold_price'] <= 5000] = None"
   ]
  },
  {
   "cell_type": "code",
   "execution_count": 44,
   "metadata": {},
   "outputs": [
    {
     "data": {
      "text/plain": [
       "count    5.138000e+03\n",
       "mean     4.373785e+06\n",
       "std      1.670787e+07\n",
       "min      9.790000e+03\n",
       "25%      6.300000e+05\n",
       "50%      1.200000e+06\n",
       "75%      2.550537e+06\n",
       "max      2.740000e+08\n",
       "Name: Sold_price, dtype: float64"
      ]
     },
     "execution_count": 44,
     "metadata": {},
     "output_type": "execute_result"
    }
   ],
   "source": [
    "df_analysis['Sold_price'].describe()"
   ]
  },
  {
   "cell_type": "code",
   "execution_count": 45,
   "metadata": {},
   "outputs": [
    {
     "data": {
      "text/html": [
       "<div>\n",
       "<style scoped>\n",
       "    .dataframe tbody tr th:only-of-type {\n",
       "        vertical-align: middle;\n",
       "    }\n",
       "\n",
       "    .dataframe tbody tr th {\n",
       "        vertical-align: top;\n",
       "    }\n",
       "\n",
       "    .dataframe thead th {\n",
       "        text-align: right;\n",
       "    }\n",
       "</style>\n",
       "<table border=\"1\" class=\"dataframe\">\n",
       "  <thead>\n",
       "    <tr style=\"text-align: right;\">\n",
       "      <th></th>\n",
       "      <th>id</th>\n",
       "      <th>BuildingType</th>\n",
       "      <th>other_ament_score</th>\n",
       "      <th>trans_average</th>\n",
       "      <th>Elevator</th>\n",
       "      <th>Doorman</th>\n",
       "      <th>PetsAllowed</th>\n",
       "      <th>Num_unit</th>\n",
       "      <th>Num_story</th>\n",
       "      <th>Build_year</th>\n",
       "      <th>Sold_price</th>\n",
       "      <th>Num_bedroom</th>\n",
       "      <th>Num_bathroom</th>\n",
       "      <th>SquareFeet</th>\n",
       "      <th>Studio</th>\n",
       "    </tr>\n",
       "  </thead>\n",
       "  <tbody>\n",
       "    <tr>\n",
       "      <th>3</th>\n",
       "      <td>70962</td>\n",
       "      <td>Co-op</td>\n",
       "      <td>3</td>\n",
       "      <td>0.372</td>\n",
       "      <td>0.0</td>\n",
       "      <td>0.0</td>\n",
       "      <td>0.0</td>\n",
       "      <td>1.0</td>\n",
       "      <td>2.0</td>\n",
       "      <td>1920.0</td>\n",
       "      <td>250000.0</td>\n",
       "      <td>1.0</td>\n",
       "      <td>1.0</td>\n",
       "      <td>NaN</td>\n",
       "      <td>1.0</td>\n",
       "    </tr>\n",
       "    <tr>\n",
       "      <th>20</th>\n",
       "      <td>71007</td>\n",
       "      <td>Condo</td>\n",
       "      <td>1</td>\n",
       "      <td>3.170</td>\n",
       "      <td>1.0</td>\n",
       "      <td>0.0</td>\n",
       "      <td>1.0</td>\n",
       "      <td>5.0</td>\n",
       "      <td>6.0</td>\n",
       "      <td>2007.0</td>\n",
       "      <td>NaN</td>\n",
       "      <td>NaN</td>\n",
       "      <td>NaN</td>\n",
       "      <td>NaN</td>\n",
       "      <td>0.0</td>\n",
       "    </tr>\n",
       "    <tr>\n",
       "      <th>21</th>\n",
       "      <td>71007</td>\n",
       "      <td>Condo</td>\n",
       "      <td>1</td>\n",
       "      <td>3.170</td>\n",
       "      <td>1.0</td>\n",
       "      <td>0.0</td>\n",
       "      <td>1.0</td>\n",
       "      <td>5.0</td>\n",
       "      <td>6.0</td>\n",
       "      <td>2007.0</td>\n",
       "      <td>1525000.0</td>\n",
       "      <td>2.0</td>\n",
       "      <td>2.0</td>\n",
       "      <td>1295.0</td>\n",
       "      <td>0.0</td>\n",
       "    </tr>\n",
       "    <tr>\n",
       "      <th>24</th>\n",
       "      <td>71007</td>\n",
       "      <td>Condo</td>\n",
       "      <td>1</td>\n",
       "      <td>3.170</td>\n",
       "      <td>1.0</td>\n",
       "      <td>0.0</td>\n",
       "      <td>1.0</td>\n",
       "      <td>5.0</td>\n",
       "      <td>6.0</td>\n",
       "      <td>2007.0</td>\n",
       "      <td>1221900.0</td>\n",
       "      <td>2.0</td>\n",
       "      <td>2.0</td>\n",
       "      <td>1295.0</td>\n",
       "      <td>0.0</td>\n",
       "    </tr>\n",
       "    <tr>\n",
       "      <th>26</th>\n",
       "      <td>71007</td>\n",
       "      <td>Condo</td>\n",
       "      <td>1</td>\n",
       "      <td>3.170</td>\n",
       "      <td>1.0</td>\n",
       "      <td>0.0</td>\n",
       "      <td>1.0</td>\n",
       "      <td>5.0</td>\n",
       "      <td>6.0</td>\n",
       "      <td>2007.0</td>\n",
       "      <td>1875000.0</td>\n",
       "      <td>NaN</td>\n",
       "      <td>NaN</td>\n",
       "      <td>NaN</td>\n",
       "      <td>0.0</td>\n",
       "    </tr>\n",
       "    <tr>\n",
       "      <th>28</th>\n",
       "      <td>71007</td>\n",
       "      <td>Condo</td>\n",
       "      <td>1</td>\n",
       "      <td>3.170</td>\n",
       "      <td>1.0</td>\n",
       "      <td>0.0</td>\n",
       "      <td>1.0</td>\n",
       "      <td>5.0</td>\n",
       "      <td>6.0</td>\n",
       "      <td>2007.0</td>\n",
       "      <td>1200000.0</td>\n",
       "      <td>NaN</td>\n",
       "      <td>NaN</td>\n",
       "      <td>NaN</td>\n",
       "      <td>0.0</td>\n",
       "    </tr>\n",
       "    <tr>\n",
       "      <th>29</th>\n",
       "      <td>71007</td>\n",
       "      <td>Condo</td>\n",
       "      <td>1</td>\n",
       "      <td>3.170</td>\n",
       "      <td>1.0</td>\n",
       "      <td>0.0</td>\n",
       "      <td>1.0</td>\n",
       "      <td>5.0</td>\n",
       "      <td>6.0</td>\n",
       "      <td>2007.0</td>\n",
       "      <td>NaN</td>\n",
       "      <td>NaN</td>\n",
       "      <td>NaN</td>\n",
       "      <td>NaN</td>\n",
       "      <td>0.0</td>\n",
       "    </tr>\n",
       "    <tr>\n",
       "      <th>30</th>\n",
       "      <td>71007</td>\n",
       "      <td>Condo</td>\n",
       "      <td>1</td>\n",
       "      <td>3.170</td>\n",
       "      <td>1.0</td>\n",
       "      <td>0.0</td>\n",
       "      <td>1.0</td>\n",
       "      <td>5.0</td>\n",
       "      <td>6.0</td>\n",
       "      <td>2007.0</td>\n",
       "      <td>840000.0</td>\n",
       "      <td>NaN</td>\n",
       "      <td>NaN</td>\n",
       "      <td>NaN</td>\n",
       "      <td>0.0</td>\n",
       "    </tr>\n",
       "    <tr>\n",
       "      <th>32</th>\n",
       "      <td>71007</td>\n",
       "      <td>Condo</td>\n",
       "      <td>1</td>\n",
       "      <td>3.170</td>\n",
       "      <td>1.0</td>\n",
       "      <td>0.0</td>\n",
       "      <td>1.0</td>\n",
       "      <td>5.0</td>\n",
       "      <td>6.0</td>\n",
       "      <td>2007.0</td>\n",
       "      <td>1795000.0</td>\n",
       "      <td>2.0</td>\n",
       "      <td>2.5</td>\n",
       "      <td>1628.0</td>\n",
       "      <td>0.0</td>\n",
       "    </tr>\n",
       "    <tr>\n",
       "      <th>35</th>\n",
       "      <td>71007</td>\n",
       "      <td>Condo</td>\n",
       "      <td>1</td>\n",
       "      <td>3.170</td>\n",
       "      <td>1.0</td>\n",
       "      <td>0.0</td>\n",
       "      <td>1.0</td>\n",
       "      <td>5.0</td>\n",
       "      <td>6.0</td>\n",
       "      <td>2007.0</td>\n",
       "      <td>1795000.0</td>\n",
       "      <td>2.0</td>\n",
       "      <td>2.5</td>\n",
       "      <td>1628.0</td>\n",
       "      <td>0.0</td>\n",
       "    </tr>\n",
       "  </tbody>\n",
       "</table>\n",
       "</div>"
      ],
      "text/plain": [
       "       id BuildingType  other_ament_score  trans_average  Elevator  Doorman  \\\n",
       "3   70962        Co-op                  3          0.372       0.0      0.0   \n",
       "20  71007        Condo                  1          3.170       1.0      0.0   \n",
       "21  71007        Condo                  1          3.170       1.0      0.0   \n",
       "24  71007        Condo                  1          3.170       1.0      0.0   \n",
       "26  71007        Condo                  1          3.170       1.0      0.0   \n",
       "28  71007        Condo                  1          3.170       1.0      0.0   \n",
       "29  71007        Condo                  1          3.170       1.0      0.0   \n",
       "30  71007        Condo                  1          3.170       1.0      0.0   \n",
       "32  71007        Condo                  1          3.170       1.0      0.0   \n",
       "35  71007        Condo                  1          3.170       1.0      0.0   \n",
       "\n",
       "    PetsAllowed  Num_unit  Num_story  Build_year  Sold_price  Num_bedroom  \\\n",
       "3           0.0       1.0        2.0      1920.0    250000.0          1.0   \n",
       "20          1.0       5.0        6.0      2007.0         NaN          NaN   \n",
       "21          1.0       5.0        6.0      2007.0   1525000.0          2.0   \n",
       "24          1.0       5.0        6.0      2007.0   1221900.0          2.0   \n",
       "26          1.0       5.0        6.0      2007.0   1875000.0          NaN   \n",
       "28          1.0       5.0        6.0      2007.0   1200000.0          NaN   \n",
       "29          1.0       5.0        6.0      2007.0         NaN          NaN   \n",
       "30          1.0       5.0        6.0      2007.0    840000.0          NaN   \n",
       "32          1.0       5.0        6.0      2007.0   1795000.0          2.0   \n",
       "35          1.0       5.0        6.0      2007.0   1795000.0          2.0   \n",
       "\n",
       "    Num_bathroom  SquareFeet  Studio  \n",
       "3            1.0         NaN     1.0  \n",
       "20           NaN         NaN     0.0  \n",
       "21           2.0      1295.0     0.0  \n",
       "24           2.0      1295.0     0.0  \n",
       "26           NaN         NaN     0.0  \n",
       "28           NaN         NaN     0.0  \n",
       "29           NaN         NaN     0.0  \n",
       "30           NaN         NaN     0.0  \n",
       "32           2.5      1628.0     0.0  \n",
       "35           2.5      1628.0     0.0  "
      ]
     },
     "execution_count": 45,
     "metadata": {},
     "output_type": "execute_result"
    }
   ],
   "source": [
    "df_analysis.head(10)"
   ]
  },
  {
   "cell_type": "code",
   "execution_count": 46,
   "metadata": {},
   "outputs": [
    {
     "data": {
      "text/html": [
       "<div>\n",
       "<style scoped>\n",
       "    .dataframe tbody tr th:only-of-type {\n",
       "        vertical-align: middle;\n",
       "    }\n",
       "\n",
       "    .dataframe tbody tr th {\n",
       "        vertical-align: top;\n",
       "    }\n",
       "\n",
       "    .dataframe thead th {\n",
       "        text-align: right;\n",
       "    }\n",
       "</style>\n",
       "<table border=\"1\" class=\"dataframe\">\n",
       "  <thead>\n",
       "    <tr style=\"text-align: right;\">\n",
       "      <th></th>\n",
       "      <th>other_ament_score</th>\n",
       "      <th>trans_average</th>\n",
       "      <th>Elevator</th>\n",
       "      <th>Doorman</th>\n",
       "      <th>PetsAllowed</th>\n",
       "      <th>Num_unit</th>\n",
       "      <th>Num_story</th>\n",
       "      <th>Build_year</th>\n",
       "      <th>Sold_price</th>\n",
       "      <th>Num_bedroom</th>\n",
       "      <th>Num_bathroom</th>\n",
       "      <th>SquareFeet</th>\n",
       "      <th>Studio</th>\n",
       "    </tr>\n",
       "  </thead>\n",
       "  <tbody>\n",
       "    <tr>\n",
       "      <th>count</th>\n",
       "      <td>5776.000000</td>\n",
       "      <td>5776.000000</td>\n",
       "      <td>5776.000000</td>\n",
       "      <td>5776.000000</td>\n",
       "      <td>5776.000000</td>\n",
       "      <td>5707.000000</td>\n",
       "      <td>5558.000000</td>\n",
       "      <td>5754.000000</td>\n",
       "      <td>5.138000e+03</td>\n",
       "      <td>3066.000000</td>\n",
       "      <td>3054.000000</td>\n",
       "      <td>4207.000000</td>\n",
       "      <td>5776.000000</td>\n",
       "    </tr>\n",
       "    <tr>\n",
       "      <th>mean</th>\n",
       "      <td>6.826524</td>\n",
       "      <td>1.950610</td>\n",
       "      <td>0.895602</td>\n",
       "      <td>0.792936</td>\n",
       "      <td>0.722299</td>\n",
       "      <td>202.852637</td>\n",
       "      <td>22.544081</td>\n",
       "      <td>1886.639208</td>\n",
       "      <td>4.373785e+06</td>\n",
       "      <td>1.871168</td>\n",
       "      <td>1.875082</td>\n",
       "      <td>1429.517709</td>\n",
       "      <td>0.055575</td>\n",
       "    </tr>\n",
       "    <tr>\n",
       "      <th>std</th>\n",
       "      <td>4.081469</td>\n",
       "      <td>12.600362</td>\n",
       "      <td>0.305802</td>\n",
       "      <td>0.405237</td>\n",
       "      <td>0.447904</td>\n",
       "      <td>191.783116</td>\n",
       "      <td>14.100597</td>\n",
       "      <td>381.496071</td>\n",
       "      <td>1.670787e+07</td>\n",
       "      <td>1.005144</td>\n",
       "      <td>0.963142</td>\n",
       "      <td>1665.220350</td>\n",
       "      <td>0.229119</td>\n",
       "    </tr>\n",
       "    <tr>\n",
       "      <th>min</th>\n",
       "      <td>0.000000</td>\n",
       "      <td>0.116000</td>\n",
       "      <td>0.000000</td>\n",
       "      <td>0.000000</td>\n",
       "      <td>0.000000</td>\n",
       "      <td>1.000000</td>\n",
       "      <td>1.000000</td>\n",
       "      <td>2.000000</td>\n",
       "      <td>9.790000e+03</td>\n",
       "      <td>1.000000</td>\n",
       "      <td>1.000000</td>\n",
       "      <td>1.000000</td>\n",
       "      <td>0.000000</td>\n",
       "    </tr>\n",
       "    <tr>\n",
       "      <th>25%</th>\n",
       "      <td>4.000000</td>\n",
       "      <td>0.234000</td>\n",
       "      <td>1.000000</td>\n",
       "      <td>1.000000</td>\n",
       "      <td>0.000000</td>\n",
       "      <td>54.000000</td>\n",
       "      <td>10.000000</td>\n",
       "      <td>1915.000000</td>\n",
       "      <td>6.300000e+05</td>\n",
       "      <td>1.000000</td>\n",
       "      <td>1.000000</td>\n",
       "      <td>682.000000</td>\n",
       "      <td>0.000000</td>\n",
       "    </tr>\n",
       "    <tr>\n",
       "      <th>50%</th>\n",
       "      <td>6.000000</td>\n",
       "      <td>0.270000</td>\n",
       "      <td>1.000000</td>\n",
       "      <td>1.000000</td>\n",
       "      <td>1.000000</td>\n",
       "      <td>157.000000</td>\n",
       "      <td>21.000000</td>\n",
       "      <td>1985.000000</td>\n",
       "      <td>1.200000e+06</td>\n",
       "      <td>2.000000</td>\n",
       "      <td>2.000000</td>\n",
       "      <td>1022.000000</td>\n",
       "      <td>0.000000</td>\n",
       "    </tr>\n",
       "    <tr>\n",
       "      <th>75%</th>\n",
       "      <td>10.000000</td>\n",
       "      <td>0.346000</td>\n",
       "      <td>1.000000</td>\n",
       "      <td>1.000000</td>\n",
       "      <td>1.000000</td>\n",
       "      <td>253.000000</td>\n",
       "      <td>31.000000</td>\n",
       "      <td>2003.000000</td>\n",
       "      <td>2.550537e+06</td>\n",
       "      <td>2.000000</td>\n",
       "      <td>2.500000</td>\n",
       "      <td>1681.000000</td>\n",
       "      <td>0.000000</td>\n",
       "    </tr>\n",
       "    <tr>\n",
       "      <th>max</th>\n",
       "      <td>16.000000</td>\n",
       "      <td>173.600000</td>\n",
       "      <td>1.000000</td>\n",
       "      <td>1.000000</td>\n",
       "      <td>1.000000</td>\n",
       "      <td>880.000000</td>\n",
       "      <td>65.000000</td>\n",
       "      <td>2018.000000</td>\n",
       "      <td>2.740000e+08</td>\n",
       "      <td>18.000000</td>\n",
       "      <td>10.000000</td>\n",
       "      <td>32843.000000</td>\n",
       "      <td>1.000000</td>\n",
       "    </tr>\n",
       "  </tbody>\n",
       "</table>\n",
       "</div>"
      ],
      "text/plain": [
       "       other_ament_score  trans_average     Elevator      Doorman  \\\n",
       "count        5776.000000    5776.000000  5776.000000  5776.000000   \n",
       "mean            6.826524       1.950610     0.895602     0.792936   \n",
       "std             4.081469      12.600362     0.305802     0.405237   \n",
       "min             0.000000       0.116000     0.000000     0.000000   \n",
       "25%             4.000000       0.234000     1.000000     1.000000   \n",
       "50%             6.000000       0.270000     1.000000     1.000000   \n",
       "75%            10.000000       0.346000     1.000000     1.000000   \n",
       "max            16.000000     173.600000     1.000000     1.000000   \n",
       "\n",
       "       PetsAllowed     Num_unit    Num_story   Build_year    Sold_price  \\\n",
       "count  5776.000000  5707.000000  5558.000000  5754.000000  5.138000e+03   \n",
       "mean      0.722299   202.852637    22.544081  1886.639208  4.373785e+06   \n",
       "std       0.447904   191.783116    14.100597   381.496071  1.670787e+07   \n",
       "min       0.000000     1.000000     1.000000     2.000000  9.790000e+03   \n",
       "25%       0.000000    54.000000    10.000000  1915.000000  6.300000e+05   \n",
       "50%       1.000000   157.000000    21.000000  1985.000000  1.200000e+06   \n",
       "75%       1.000000   253.000000    31.000000  2003.000000  2.550537e+06   \n",
       "max       1.000000   880.000000    65.000000  2018.000000  2.740000e+08   \n",
       "\n",
       "       Num_bedroom  Num_bathroom    SquareFeet       Studio  \n",
       "count  3066.000000   3054.000000   4207.000000  5776.000000  \n",
       "mean      1.871168      1.875082   1429.517709     0.055575  \n",
       "std       1.005144      0.963142   1665.220350     0.229119  \n",
       "min       1.000000      1.000000      1.000000     0.000000  \n",
       "25%       1.000000      1.000000    682.000000     0.000000  \n",
       "50%       2.000000      2.000000   1022.000000     0.000000  \n",
       "75%       2.000000      2.500000   1681.000000     0.000000  \n",
       "max      18.000000     10.000000  32843.000000     1.000000  "
      ]
     },
     "execution_count": 46,
     "metadata": {},
     "output_type": "execute_result"
    }
   ],
   "source": [
    "df_analysis.describe()"
   ]
  },
  {
   "cell_type": "code",
   "execution_count": 47,
   "metadata": {},
   "outputs": [],
   "source": [
    "# There are also 224 values whoes built year is less than 1000, and a lot of which are 2, etc, \n",
    "# which is not feasable, so I recode these values to NaN\n",
    "df_analysis['Build_year'].values[df_analysis['Build_year'] <= 1000] = None\n",
    "\n",
    "# Squarefeet less than 100 sold for high price is not feasible, recode them with NaN for now\n",
    "df_analysis['SquareFeet'].values[df_analysis['SquareFeet'] <= 50] = None"
   ]
  },
  {
   "cell_type": "code",
   "execution_count": 48,
   "metadata": {},
   "outputs": [
    {
     "data": {
      "text/html": [
       "<div>\n",
       "<style scoped>\n",
       "    .dataframe tbody tr th:only-of-type {\n",
       "        vertical-align: middle;\n",
       "    }\n",
       "\n",
       "    .dataframe tbody tr th {\n",
       "        vertical-align: top;\n",
       "    }\n",
       "\n",
       "    .dataframe thead th {\n",
       "        text-align: right;\n",
       "    }\n",
       "</style>\n",
       "<table border=\"1\" class=\"dataframe\">\n",
       "  <thead>\n",
       "    <tr style=\"text-align: right;\">\n",
       "      <th></th>\n",
       "      <th>other_ament_score</th>\n",
       "      <th>trans_average</th>\n",
       "      <th>Elevator</th>\n",
       "      <th>Doorman</th>\n",
       "      <th>PetsAllowed</th>\n",
       "      <th>Num_unit</th>\n",
       "      <th>Num_story</th>\n",
       "      <th>Build_year</th>\n",
       "      <th>Sold_price</th>\n",
       "      <th>Num_bedroom</th>\n",
       "      <th>Num_bathroom</th>\n",
       "      <th>SquareFeet</th>\n",
       "      <th>Studio</th>\n",
       "    </tr>\n",
       "  </thead>\n",
       "  <tbody>\n",
       "    <tr>\n",
       "      <th>count</th>\n",
       "      <td>5776.000000</td>\n",
       "      <td>5776.000000</td>\n",
       "      <td>5776.000000</td>\n",
       "      <td>5776.000000</td>\n",
       "      <td>5776.000000</td>\n",
       "      <td>5707.000000</td>\n",
       "      <td>5558.000000</td>\n",
       "      <td>5530.000000</td>\n",
       "      <td>5.138000e+03</td>\n",
       "      <td>3066.000000</td>\n",
       "      <td>3054.000000</td>\n",
       "      <td>4186.000000</td>\n",
       "      <td>5776.000000</td>\n",
       "    </tr>\n",
       "    <tr>\n",
       "      <th>mean</th>\n",
       "      <td>6.826524</td>\n",
       "      <td>1.950610</td>\n",
       "      <td>0.895602</td>\n",
       "      <td>0.792936</td>\n",
       "      <td>0.722299</td>\n",
       "      <td>202.852637</td>\n",
       "      <td>22.544081</td>\n",
       "      <td>1962.975045</td>\n",
       "      <td>4.373785e+06</td>\n",
       "      <td>1.871168</td>\n",
       "      <td>1.875082</td>\n",
       "      <td>1436.593407</td>\n",
       "      <td>0.055575</td>\n",
       "    </tr>\n",
       "    <tr>\n",
       "      <th>std</th>\n",
       "      <td>4.081469</td>\n",
       "      <td>12.600362</td>\n",
       "      <td>0.305802</td>\n",
       "      <td>0.405237</td>\n",
       "      <td>0.447904</td>\n",
       "      <td>191.783116</td>\n",
       "      <td>14.100597</td>\n",
       "      <td>41.512982</td>\n",
       "      <td>1.670787e+07</td>\n",
       "      <td>1.005144</td>\n",
       "      <td>0.963142</td>\n",
       "      <td>1666.385604</td>\n",
       "      <td>0.229119</td>\n",
       "    </tr>\n",
       "    <tr>\n",
       "      <th>min</th>\n",
       "      <td>0.000000</td>\n",
       "      <td>0.116000</td>\n",
       "      <td>0.000000</td>\n",
       "      <td>0.000000</td>\n",
       "      <td>0.000000</td>\n",
       "      <td>1.000000</td>\n",
       "      <td>1.000000</td>\n",
       "      <td>1852.000000</td>\n",
       "      <td>9.790000e+03</td>\n",
       "      <td>1.000000</td>\n",
       "      <td>1.000000</td>\n",
       "      <td>53.000000</td>\n",
       "      <td>0.000000</td>\n",
       "    </tr>\n",
       "    <tr>\n",
       "      <th>25%</th>\n",
       "      <td>4.000000</td>\n",
       "      <td>0.234000</td>\n",
       "      <td>1.000000</td>\n",
       "      <td>1.000000</td>\n",
       "      <td>0.000000</td>\n",
       "      <td>54.000000</td>\n",
       "      <td>10.000000</td>\n",
       "      <td>1920.000000</td>\n",
       "      <td>6.300000e+05</td>\n",
       "      <td>1.000000</td>\n",
       "      <td>1.000000</td>\n",
       "      <td>685.000000</td>\n",
       "      <td>0.000000</td>\n",
       "    </tr>\n",
       "    <tr>\n",
       "      <th>50%</th>\n",
       "      <td>6.000000</td>\n",
       "      <td>0.270000</td>\n",
       "      <td>1.000000</td>\n",
       "      <td>1.000000</td>\n",
       "      <td>1.000000</td>\n",
       "      <td>157.000000</td>\n",
       "      <td>21.000000</td>\n",
       "      <td>1985.000000</td>\n",
       "      <td>1.200000e+06</td>\n",
       "      <td>2.000000</td>\n",
       "      <td>2.000000</td>\n",
       "      <td>1024.000000</td>\n",
       "      <td>0.000000</td>\n",
       "    </tr>\n",
       "    <tr>\n",
       "      <th>75%</th>\n",
       "      <td>10.000000</td>\n",
       "      <td>0.346000</td>\n",
       "      <td>1.000000</td>\n",
       "      <td>1.000000</td>\n",
       "      <td>1.000000</td>\n",
       "      <td>253.000000</td>\n",
       "      <td>31.000000</td>\n",
       "      <td>2003.000000</td>\n",
       "      <td>2.550537e+06</td>\n",
       "      <td>2.000000</td>\n",
       "      <td>2.500000</td>\n",
       "      <td>1681.000000</td>\n",
       "      <td>0.000000</td>\n",
       "    </tr>\n",
       "    <tr>\n",
       "      <th>max</th>\n",
       "      <td>16.000000</td>\n",
       "      <td>173.600000</td>\n",
       "      <td>1.000000</td>\n",
       "      <td>1.000000</td>\n",
       "      <td>1.000000</td>\n",
       "      <td>880.000000</td>\n",
       "      <td>65.000000</td>\n",
       "      <td>2018.000000</td>\n",
       "      <td>2.740000e+08</td>\n",
       "      <td>18.000000</td>\n",
       "      <td>10.000000</td>\n",
       "      <td>32843.000000</td>\n",
       "      <td>1.000000</td>\n",
       "    </tr>\n",
       "  </tbody>\n",
       "</table>\n",
       "</div>"
      ],
      "text/plain": [
       "       other_ament_score  trans_average     Elevator      Doorman  \\\n",
       "count        5776.000000    5776.000000  5776.000000  5776.000000   \n",
       "mean            6.826524       1.950610     0.895602     0.792936   \n",
       "std             4.081469      12.600362     0.305802     0.405237   \n",
       "min             0.000000       0.116000     0.000000     0.000000   \n",
       "25%             4.000000       0.234000     1.000000     1.000000   \n",
       "50%             6.000000       0.270000     1.000000     1.000000   \n",
       "75%            10.000000       0.346000     1.000000     1.000000   \n",
       "max            16.000000     173.600000     1.000000     1.000000   \n",
       "\n",
       "       PetsAllowed     Num_unit    Num_story   Build_year    Sold_price  \\\n",
       "count  5776.000000  5707.000000  5558.000000  5530.000000  5.138000e+03   \n",
       "mean      0.722299   202.852637    22.544081  1962.975045  4.373785e+06   \n",
       "std       0.447904   191.783116    14.100597    41.512982  1.670787e+07   \n",
       "min       0.000000     1.000000     1.000000  1852.000000  9.790000e+03   \n",
       "25%       0.000000    54.000000    10.000000  1920.000000  6.300000e+05   \n",
       "50%       1.000000   157.000000    21.000000  1985.000000  1.200000e+06   \n",
       "75%       1.000000   253.000000    31.000000  2003.000000  2.550537e+06   \n",
       "max       1.000000   880.000000    65.000000  2018.000000  2.740000e+08   \n",
       "\n",
       "       Num_bedroom  Num_bathroom    SquareFeet       Studio  \n",
       "count  3066.000000   3054.000000   4186.000000  5776.000000  \n",
       "mean      1.871168      1.875082   1436.593407     0.055575  \n",
       "std       1.005144      0.963142   1666.385604     0.229119  \n",
       "min       1.000000      1.000000     53.000000     0.000000  \n",
       "25%       1.000000      1.000000    685.000000     0.000000  \n",
       "50%       2.000000      2.000000   1024.000000     0.000000  \n",
       "75%       2.000000      2.500000   1681.000000     0.000000  \n",
       "max      18.000000     10.000000  32843.000000     1.000000  "
      ]
     },
     "execution_count": 48,
     "metadata": {},
     "output_type": "execute_result"
    }
   ],
   "source": [
    "df_analysis.describe()"
   ]
  },
  {
   "cell_type": "code",
   "execution_count": 49,
   "metadata": {},
   "outputs": [],
   "source": [
    "# df_analysis['Sold_price'] = df_analysis['Sold_price'].fillna(0)"
   ]
  },
  {
   "cell_type": "code",
   "execution_count": 50,
   "metadata": {},
   "outputs": [
    {
     "data": {
      "text/plain": [
       "(5776, 15)"
      ]
     },
     "execution_count": 50,
     "metadata": {},
     "output_type": "execute_result"
    }
   ],
   "source": [
    "df_analysis.shape"
   ]
  },
  {
   "cell_type": "markdown",
   "metadata": {},
   "source": [
    "# Explorative Data Analysis"
   ]
  },
  {
   "cell_type": "code",
   "execution_count": 51,
   "metadata": {},
   "outputs": [
    {
     "data": {
      "text/html": [
       "<div>\n",
       "<style scoped>\n",
       "    .dataframe tbody tr th:only-of-type {\n",
       "        vertical-align: middle;\n",
       "    }\n",
       "\n",
       "    .dataframe tbody tr th {\n",
       "        vertical-align: top;\n",
       "    }\n",
       "\n",
       "    .dataframe thead th {\n",
       "        text-align: right;\n",
       "    }\n",
       "</style>\n",
       "<table border=\"1\" class=\"dataframe\">\n",
       "  <thead>\n",
       "    <tr style=\"text-align: right;\">\n",
       "      <th></th>\n",
       "      <th>id</th>\n",
       "      <th>BuildingType</th>\n",
       "      <th>other_ament_score</th>\n",
       "      <th>trans_average</th>\n",
       "      <th>Elevator</th>\n",
       "      <th>Doorman</th>\n",
       "      <th>PetsAllowed</th>\n",
       "      <th>Num_unit</th>\n",
       "      <th>Num_story</th>\n",
       "      <th>Build_year</th>\n",
       "      <th>Sold_price</th>\n",
       "      <th>Num_bedroom</th>\n",
       "      <th>Num_bathroom</th>\n",
       "      <th>SquareFeet</th>\n",
       "      <th>Studio</th>\n",
       "    </tr>\n",
       "  </thead>\n",
       "  <tbody>\n",
       "    <tr>\n",
       "      <th>3</th>\n",
       "      <td>70962</td>\n",
       "      <td>Co-op</td>\n",
       "      <td>3</td>\n",
       "      <td>0.372</td>\n",
       "      <td>0.0</td>\n",
       "      <td>0.0</td>\n",
       "      <td>0.0</td>\n",
       "      <td>1.0</td>\n",
       "      <td>2.0</td>\n",
       "      <td>1920.0</td>\n",
       "      <td>250000.0</td>\n",
       "      <td>1.0</td>\n",
       "      <td>1.0</td>\n",
       "      <td>NaN</td>\n",
       "      <td>1.0</td>\n",
       "    </tr>\n",
       "    <tr>\n",
       "      <th>20</th>\n",
       "      <td>71007</td>\n",
       "      <td>Condo</td>\n",
       "      <td>1</td>\n",
       "      <td>3.170</td>\n",
       "      <td>1.0</td>\n",
       "      <td>0.0</td>\n",
       "      <td>1.0</td>\n",
       "      <td>5.0</td>\n",
       "      <td>6.0</td>\n",
       "      <td>2007.0</td>\n",
       "      <td>NaN</td>\n",
       "      <td>NaN</td>\n",
       "      <td>NaN</td>\n",
       "      <td>NaN</td>\n",
       "      <td>0.0</td>\n",
       "    </tr>\n",
       "    <tr>\n",
       "      <th>21</th>\n",
       "      <td>71007</td>\n",
       "      <td>Condo</td>\n",
       "      <td>1</td>\n",
       "      <td>3.170</td>\n",
       "      <td>1.0</td>\n",
       "      <td>0.0</td>\n",
       "      <td>1.0</td>\n",
       "      <td>5.0</td>\n",
       "      <td>6.0</td>\n",
       "      <td>2007.0</td>\n",
       "      <td>1525000.0</td>\n",
       "      <td>2.0</td>\n",
       "      <td>2.0</td>\n",
       "      <td>1295.0</td>\n",
       "      <td>0.0</td>\n",
       "    </tr>\n",
       "    <tr>\n",
       "      <th>24</th>\n",
       "      <td>71007</td>\n",
       "      <td>Condo</td>\n",
       "      <td>1</td>\n",
       "      <td>3.170</td>\n",
       "      <td>1.0</td>\n",
       "      <td>0.0</td>\n",
       "      <td>1.0</td>\n",
       "      <td>5.0</td>\n",
       "      <td>6.0</td>\n",
       "      <td>2007.0</td>\n",
       "      <td>1221900.0</td>\n",
       "      <td>2.0</td>\n",
       "      <td>2.0</td>\n",
       "      <td>1295.0</td>\n",
       "      <td>0.0</td>\n",
       "    </tr>\n",
       "    <tr>\n",
       "      <th>26</th>\n",
       "      <td>71007</td>\n",
       "      <td>Condo</td>\n",
       "      <td>1</td>\n",
       "      <td>3.170</td>\n",
       "      <td>1.0</td>\n",
       "      <td>0.0</td>\n",
       "      <td>1.0</td>\n",
       "      <td>5.0</td>\n",
       "      <td>6.0</td>\n",
       "      <td>2007.0</td>\n",
       "      <td>1875000.0</td>\n",
       "      <td>NaN</td>\n",
       "      <td>NaN</td>\n",
       "      <td>NaN</td>\n",
       "      <td>0.0</td>\n",
       "    </tr>\n",
       "  </tbody>\n",
       "</table>\n",
       "</div>"
      ],
      "text/plain": [
       "       id BuildingType  other_ament_score  trans_average  Elevator  Doorman  \\\n",
       "3   70962        Co-op                  3          0.372       0.0      0.0   \n",
       "20  71007        Condo                  1          3.170       1.0      0.0   \n",
       "21  71007        Condo                  1          3.170       1.0      0.0   \n",
       "24  71007        Condo                  1          3.170       1.0      0.0   \n",
       "26  71007        Condo                  1          3.170       1.0      0.0   \n",
       "\n",
       "    PetsAllowed  Num_unit  Num_story  Build_year  Sold_price  Num_bedroom  \\\n",
       "3           0.0       1.0        2.0      1920.0    250000.0          1.0   \n",
       "20          1.0       5.0        6.0      2007.0         NaN          NaN   \n",
       "21          1.0       5.0        6.0      2007.0   1525000.0          2.0   \n",
       "24          1.0       5.0        6.0      2007.0   1221900.0          2.0   \n",
       "26          1.0       5.0        6.0      2007.0   1875000.0          NaN   \n",
       "\n",
       "    Num_bathroom  SquareFeet  Studio  \n",
       "3            1.0         NaN     1.0  \n",
       "20           NaN         NaN     0.0  \n",
       "21           2.0      1295.0     0.0  \n",
       "24           2.0      1295.0     0.0  \n",
       "26           NaN         NaN     0.0  "
      ]
     },
     "execution_count": 51,
     "metadata": {},
     "output_type": "execute_result"
    }
   ],
   "source": [
    "df_analysis.head()"
   ]
  },
  {
   "cell_type": "code",
   "execution_count": 52,
   "metadata": {},
   "outputs": [
    {
     "data": {
      "text/plain": [
       "Condo                 5112\n",
       "Co-op                  606\n",
       "Other type              41\n",
       "Rental Building          7\n",
       "Single-Family Home       4\n",
       "Multi-family             1\n",
       "Name: BuildingType, dtype: int64"
      ]
     },
     "execution_count": 52,
     "metadata": {},
     "output_type": "execute_result"
    }
   ],
   "source": [
    "df_analysis.BuildingType.value_counts()"
   ]
  },
  {
   "cell_type": "code",
   "execution_count": 53,
   "metadata": {},
   "outputs": [],
   "source": [
    "# df_analysis[df_analysis['BuildingType'] =='Rental Building']\n",
    "df_analysis.drop(df_analysis.loc[df_analysis['BuildingType'].isin(['Rental Building','Single-Family Home','Multi-family'])].index, inplace=True)"
   ]
  },
  {
   "cell_type": "code",
   "execution_count": 54,
   "metadata": {},
   "outputs": [
    {
     "data": {
      "text/plain": [
       "Condo         5112\n",
       "Co-op          606\n",
       "Other type      41\n",
       "Name: BuildingType, dtype: int64"
      ]
     },
     "execution_count": 54,
     "metadata": {},
     "output_type": "execute_result"
    }
   ],
   "source": [
    "df_analysis.BuildingType.value_counts()"
   ]
  },
  {
   "cell_type": "code",
   "execution_count": 55,
   "metadata": {},
   "outputs": [
    {
     "data": {
      "text/plain": [
       "(5764, 15)"
      ]
     },
     "execution_count": 55,
     "metadata": {},
     "output_type": "execute_result"
    }
   ],
   "source": [
    "df_analysis.shape"
   ]
  },
  {
   "cell_type": "code",
   "execution_count": 56,
   "metadata": {},
   "outputs": [],
   "source": [
    "train, test = train_test_split(df_analysis, test_size=0.3)"
   ]
  },
  {
   "cell_type": "code",
   "execution_count": 57,
   "metadata": {},
   "outputs": [
    {
     "data": {
      "text/html": [
       "<div>\n",
       "<style scoped>\n",
       "    .dataframe tbody tr th:only-of-type {\n",
       "        vertical-align: middle;\n",
       "    }\n",
       "\n",
       "    .dataframe tbody tr th {\n",
       "        vertical-align: top;\n",
       "    }\n",
       "\n",
       "    .dataframe thead th {\n",
       "        text-align: right;\n",
       "    }\n",
       "</style>\n",
       "<table border=\"1\" class=\"dataframe\">\n",
       "  <thead>\n",
       "    <tr style=\"text-align: right;\">\n",
       "      <th></th>\n",
       "      <th>id</th>\n",
       "      <th>BuildingType</th>\n",
       "      <th>other_ament_score</th>\n",
       "      <th>trans_average</th>\n",
       "      <th>Elevator</th>\n",
       "      <th>Doorman</th>\n",
       "      <th>PetsAllowed</th>\n",
       "      <th>Num_unit</th>\n",
       "      <th>Num_story</th>\n",
       "      <th>Build_year</th>\n",
       "      <th>Sold_price</th>\n",
       "      <th>Num_bedroom</th>\n",
       "      <th>Num_bathroom</th>\n",
       "      <th>SquareFeet</th>\n",
       "      <th>Studio</th>\n",
       "    </tr>\n",
       "  </thead>\n",
       "  <tbody>\n",
       "    <tr>\n",
       "      <th>11839</th>\n",
       "      <td>777196</td>\n",
       "      <td>Condo</td>\n",
       "      <td>3</td>\n",
       "      <td>0.234</td>\n",
       "      <td>1.0</td>\n",
       "      <td>1.0</td>\n",
       "      <td>1.0</td>\n",
       "      <td>145.0</td>\n",
       "      <td>26.0</td>\n",
       "      <td>1927.0</td>\n",
       "      <td>950000.0</td>\n",
       "      <td>NaN</td>\n",
       "      <td>NaN</td>\n",
       "      <td>NaN</td>\n",
       "      <td>0.0</td>\n",
       "    </tr>\n",
       "    <tr>\n",
       "      <th>9000</th>\n",
       "      <td>776211</td>\n",
       "      <td>Condo</td>\n",
       "      <td>10</td>\n",
       "      <td>0.124</td>\n",
       "      <td>1.0</td>\n",
       "      <td>1.0</td>\n",
       "      <td>1.0</td>\n",
       "      <td>382.0</td>\n",
       "      <td>42.0</td>\n",
       "      <td>1914.0</td>\n",
       "      <td>2612500.0</td>\n",
       "      <td>2.0</td>\n",
       "      <td>2.5</td>\n",
       "      <td>2079.0</td>\n",
       "      <td>0.0</td>\n",
       "    </tr>\n",
       "    <tr>\n",
       "      <th>1659</th>\n",
       "      <td>773092</td>\n",
       "      <td>Condo</td>\n",
       "      <td>12</td>\n",
       "      <td>0.258</td>\n",
       "      <td>1.0</td>\n",
       "      <td>1.0</td>\n",
       "      <td>1.0</td>\n",
       "      <td>247.0</td>\n",
       "      <td>33.0</td>\n",
       "      <td>2008.0</td>\n",
       "      <td>1825000.0</td>\n",
       "      <td>2.0</td>\n",
       "      <td>2.0</td>\n",
       "      <td>1321.0</td>\n",
       "      <td>0.0</td>\n",
       "    </tr>\n",
       "    <tr>\n",
       "      <th>5302</th>\n",
       "      <td>775512</td>\n",
       "      <td>Condo</td>\n",
       "      <td>8</td>\n",
       "      <td>0.274</td>\n",
       "      <td>1.0</td>\n",
       "      <td>1.0</td>\n",
       "      <td>1.0</td>\n",
       "      <td>121.0</td>\n",
       "      <td>9.0</td>\n",
       "      <td>1985.0</td>\n",
       "      <td>645000.0</td>\n",
       "      <td>1.0</td>\n",
       "      <td>1.0</td>\n",
       "      <td>622.0</td>\n",
       "      <td>0.0</td>\n",
       "    </tr>\n",
       "    <tr>\n",
       "      <th>15293</th>\n",
       "      <td>778633</td>\n",
       "      <td>Condo</td>\n",
       "      <td>2</td>\n",
       "      <td>0.180</td>\n",
       "      <td>1.0</td>\n",
       "      <td>1.0</td>\n",
       "      <td>1.0</td>\n",
       "      <td>5.0</td>\n",
       "      <td>9.0</td>\n",
       "      <td>1915.0</td>\n",
       "      <td>NaN</td>\n",
       "      <td>NaN</td>\n",
       "      <td>NaN</td>\n",
       "      <td>8828.0</td>\n",
       "      <td>0.0</td>\n",
       "    </tr>\n",
       "  </tbody>\n",
       "</table>\n",
       "</div>"
      ],
      "text/plain": [
       "           id BuildingType  other_ament_score  trans_average  Elevator  \\\n",
       "11839  777196        Condo                  3          0.234       1.0   \n",
       "9000   776211        Condo                 10          0.124       1.0   \n",
       "1659   773092        Condo                 12          0.258       1.0   \n",
       "5302   775512        Condo                  8          0.274       1.0   \n",
       "15293  778633        Condo                  2          0.180       1.0   \n",
       "\n",
       "       Doorman  PetsAllowed  Num_unit  Num_story  Build_year  Sold_price  \\\n",
       "11839      1.0          1.0     145.0       26.0      1927.0    950000.0   \n",
       "9000       1.0          1.0     382.0       42.0      1914.0   2612500.0   \n",
       "1659       1.0          1.0     247.0       33.0      2008.0   1825000.0   \n",
       "5302       1.0          1.0     121.0        9.0      1985.0    645000.0   \n",
       "15293      1.0          1.0       5.0        9.0      1915.0         NaN   \n",
       "\n",
       "       Num_bedroom  Num_bathroom  SquareFeet  Studio  \n",
       "11839          NaN           NaN         NaN     0.0  \n",
       "9000           2.0           2.5      2079.0     0.0  \n",
       "1659           2.0           2.0      1321.0     0.0  \n",
       "5302           1.0           1.0       622.0     0.0  \n",
       "15293          NaN           NaN      8828.0     0.0  "
      ]
     },
     "execution_count": 57,
     "metadata": {},
     "output_type": "execute_result"
    }
   ],
   "source": [
    "train.head()"
   ]
  },
  {
   "cell_type": "code",
   "execution_count": 58,
   "metadata": {},
   "outputs": [
    {
     "name": "stdout",
     "output_type": "stream",
     "text": [
      "The train data size after dropping id feature is : (4034, 14) \n",
      "The test data size after dropping id feature is : (1730, 14) \n"
     ]
    }
   ],
   "source": [
    "# Save the 'id' column\n",
    "train_ID = train['id']\n",
    "test_ID = test['id']\n",
    "\n",
    "# Now drop the 'id' column since it's unnecessary for the prediction process.\n",
    "train.drop(\"id\", axis = 1, inplace = True)\n",
    "test.drop(\"id\", axis = 1, inplace = True)\n",
    "\n",
    "# Check data size after dropping the 'id' variable\n",
    "print(\"The train data size after dropping id feature is : {} \".format(train.shape)) \n",
    "print(\"The test data size after dropping id feature is : {} \".format(test.shape))"
   ]
  },
  {
   "cell_type": "code",
   "execution_count": 59,
   "metadata": {},
   "outputs": [
    {
     "data": {
      "text/plain": [
       "count    3.595000e+03\n",
       "mean     4.445963e+06\n",
       "std      1.702482e+07\n",
       "min      9.790000e+03\n",
       "25%      6.300000e+05\n",
       "50%      1.206626e+06\n",
       "75%      2.578132e+06\n",
       "max      2.740000e+08\n",
       "Name: Sold_price, dtype: float64"
      ]
     },
     "execution_count": 59,
     "metadata": {},
     "output_type": "execute_result"
    }
   ],
   "source": [
    "# Analyzing the Test Variable (Sale Price)\n",
    "# Getting Description \n",
    "train['Sold_price'].describe()"
   ]
  },
  {
   "cell_type": "code",
   "execution_count": 60,
   "metadata": {},
   "outputs": [
    {
     "name": "stdout",
     "output_type": "stream",
     "text": [
      "\n",
      " mu = 4445963.48 and sigma = 17022452.17\n",
      "\n"
     ]
    },
    {
     "data": {
      "image/png": "[encoded data removed]",
      "text/plain": [
       "<matplotlib.figure.Figure at 0x113ff9eb8>"
      ]
     },
     "metadata": {},
     "output_type": "display_data"
    },
    {
     "data": {
      "image/png": "[encoded data removed]",
      "text/plain": [
       "<matplotlib.figure.Figure at 0x113ff95c0>"
      ]
     },
     "metadata": {},
     "output_type": "display_data"
    },
    {
     "name": "stdout",
     "output_type": "stream",
     "text": [
      "Skewness: 8.285591\n",
      "Kurtosis: 79.215767\n"
     ]
    }
   ],
   "source": [
    "# Plot Histogram\n",
    "sns.distplot(train['Sold_price'].dropna() , fit=norm);\n",
    "\n",
    "# Get the fitted parameters used by the function\n",
    "(mu, sigma) = norm.fit(train['Sold_price'].dropna())\n",
    "print( '\\n mu = {:.2f} and sigma = {:.2f}\\n'.format(mu, sigma))\n",
    "plt.legend(['Normal dist. ($\\mu=$ {:.2f} and $\\sigma=$ {:.2f} )'.format(mu, sigma)],\n",
    "            loc='best')\n",
    "plt.ylabel('Frequency')\n",
    "plt.title('Sold_price distribution')\n",
    "\n",
    "fig = plt.figure()\n",
    "res = stats.probplot(train['Sold_price'].dropna(), plot=plt)\n",
    "plt.show()\n",
    "\n",
    "print(\"Skewness: %f\" % train['Sold_price'].dropna().skew())\n",
    "print(\"Kurtosis: %f\" % train['Sold_price'].dropna().kurt())"
   ]
  },
  {
   "cell_type": "markdown",
   "metadata": {},
   "source": [
    "From the plot above, we can see the data are skewed. Later we used some transformation on the raw data in order to fix it.\n",
    "\n",
    "Next, we would like to look at the correlation between different predictors in the dataset. To visulaze the relationship among them, we used heatmap."
   ]
  },
  {
   "cell_type": "code",
   "execution_count": 61,
   "metadata": {},
   "outputs": [
    {
     "data": {
      "text/plain": [
       "<matplotlib.axes._subplots.AxesSubplot at 0x110d265f8>"
      ]
     },
     "execution_count": 61,
     "metadata": {},
     "output_type": "execute_result"
    },
    {
     "data": {
      "image/png": "[encoded data removed]",
      "text/plain": [
       "<matplotlib.figure.Figure at 0x11a5b7da0>"
      ]
     },
     "metadata": {},
     "output_type": "display_data"
    }
   ],
   "source": [
    "# Correlation Matrix Heatmap\n",
    "corrmat = train.corr()\n",
    "f, ax = plt.subplots(figsize=(12, 9))\n",
    "sns.heatmap(corrmat, vmax=.8, square=True)"
   ]
  },
  {
   "cell_type": "code",
   "execution_count": 62,
   "metadata": {},
   "outputs": [
    {
     "data": {
      "image/png": "[encoded data removed]",
      "text/plain": [
       "<matplotlib.figure.Figure at 0x110fc4cc0>"
      ]
     },
     "metadata": {},
     "output_type": "display_data"
    }
   ],
   "source": [
    "# Top 10 Heatmap\n",
    "k = 10 #number of variables for heatmap\n",
    "cols = corrmat.nlargest(k, 'Sold_price')['Sold_price'].dropna().index\n",
    "cm = np.corrcoef(train[cols].dropna().values.T)\n",
    "sns.set(font_scale=1.25)\n",
    "hm = sns.heatmap(cm, cbar=True, annot=True, square=True, fmt='.2f', annot_kws={'size': 10}, yticklabels=cols.values, xticklabels=cols.values)\n",
    "plt.show()"
   ]
  },
  {
   "cell_type": "markdown",
   "metadata": {},
   "source": [
    "Then we would like to explore the sold price of the house with different building type. From the picture below we can see \"Condo\" houses are more expensive than \"Co-op\" buildings. Also, \"Condo\" type of houses have any outliers, which means the price difference in this type of house is bigger than the other 2 types."
   ]
  },
  {
   "cell_type": "code",
   "execution_count": 63,
   "metadata": {},
   "outputs": [
    {
     "data": {
      "text/plain": [
       "(-0.5, 2.5, 0, 20000000)"
      ]
     },
     "execution_count": 63,
     "metadata": {},
     "output_type": "execute_result"
    },
    {
     "data": {
      "image/png": "[encoded data removed]",
      "text/plain": [
       "<matplotlib.figure.Figure at 0x11a55a908>"
      ]
     },
     "metadata": {},
     "output_type": "display_data"
    }
   ],
   "source": [
    "# Overall Quality vs Sale Price\n",
    "var = 'BuildingType'\n",
    "data = pd.concat([train['Sold_price'], train[var]], axis=1)\n",
    "f, ax = plt.subplots(figsize=(8, 6))\n",
    "fig = sns.boxplot(x=var, y=\"Sold_price\", data=data)\n",
    "fig.axis(ymin=0, ymax=20000000)"
   ]
  },
  {
   "cell_type": "code",
   "execution_count": 64,
   "metadata": {},
   "outputs": [
    {
     "data": {
      "text/plain": [
       "<seaborn.axisgrid.JointGrid at 0x11a641278>"
      ]
     },
     "execution_count": 64,
     "metadata": {},
     "output_type": "execute_result"
    },
    {
     "data": {
      "image/png": "[encoded data removed]",
      "text/plain": [
       "<matplotlib.figure.Figure at 0x11a609eb8>"
      ]
     },
     "metadata": {},
     "output_type": "display_data"
    }
   ],
   "source": [
    "# SquareFeet vs Sold_price\n",
    "sns.jointplot(x=train['SquareFeet'], y=train['Sold_price'], kind='reg')"
   ]
  },
  {
   "cell_type": "code",
   "execution_count": 65,
   "metadata": {},
   "outputs": [],
   "source": [
    "# drop the rows whoes sold price is NaN\n",
    "df_analysis.dropna(subset=['Sold_price'], inplace = True)"
   ]
  },
  {
   "cell_type": "code",
   "execution_count": 66,
   "metadata": {},
   "outputs": [
    {
     "data": {
      "text/plain": [
       "(5128, 15)"
      ]
     },
     "execution_count": 66,
     "metadata": {},
     "output_type": "execute_result"
    }
   ],
   "source": [
    "df_analysis.shape"
   ]
  },
  {
   "cell_type": "markdown",
   "metadata": {},
   "source": [
    "Next step is to deal with the missing vales. We need to either remove them or fill them with values like mean or median."
   ]
  },
  {
   "cell_type": "code",
   "execution_count": 67,
   "metadata": {},
   "outputs": [
    {
     "data": {
      "text/html": [
       "<div>\n",
       "<style scoped>\n",
       "    .dataframe tbody tr th:only-of-type {\n",
       "        vertical-align: middle;\n",
       "    }\n",
       "\n",
       "    .dataframe tbody tr th {\n",
       "        vertical-align: top;\n",
       "    }\n",
       "\n",
       "    .dataframe thead th {\n",
       "        text-align: right;\n",
       "    }\n",
       "</style>\n",
       "<table border=\"1\" class=\"dataframe\">\n",
       "  <thead>\n",
       "    <tr style=\"text-align: right;\">\n",
       "      <th></th>\n",
       "      <th>Missing Ratio</th>\n",
       "    </tr>\n",
       "  </thead>\n",
       "  <tbody>\n",
       "    <tr>\n",
       "      <th>Num_bathroom</th>\n",
       "      <td>44.988300</td>\n",
       "    </tr>\n",
       "    <tr>\n",
       "      <th>Num_bedroom</th>\n",
       "      <td>44.793292</td>\n",
       "    </tr>\n",
       "    <tr>\n",
       "      <th>SquareFeet</th>\n",
       "      <td>26.891576</td>\n",
       "    </tr>\n",
       "    <tr>\n",
       "      <th>Build_year</th>\n",
       "      <td>4.387676</td>\n",
       "    </tr>\n",
       "    <tr>\n",
       "      <th>Num_story</th>\n",
       "      <td>3.724649</td>\n",
       "    </tr>\n",
       "    <tr>\n",
       "      <th>Num_unit</th>\n",
       "      <td>0.877535</td>\n",
       "    </tr>\n",
       "    <tr>\n",
       "      <th>BuildingType</th>\n",
       "      <td>0.097504</td>\n",
       "    </tr>\n",
       "  </tbody>\n",
       "</table>\n",
       "</div>"
      ],
      "text/plain": [
       "              Missing Ratio\n",
       "Num_bathroom      44.988300\n",
       "Num_bedroom       44.793292\n",
       "SquareFeet        26.891576\n",
       "Build_year         4.387676\n",
       "Num_story          3.724649\n",
       "Num_unit           0.877535\n",
       "BuildingType       0.097504"
      ]
     },
     "execution_count": 67,
     "metadata": {},
     "output_type": "execute_result"
    }
   ],
   "source": [
    "# Find Missing Ratio of Dataset\n",
    "df_analysis_na = (df_analysis.isnull().sum() / len(df_analysis)) * 100\n",
    "df_analysis_na = df_analysis_na.drop(df_analysis_na[df_analysis_na == 0].index).sort_values(ascending=False)[:30]\n",
    "missing_data = pd.DataFrame({'Missing Ratio' :df_analysis_na})\n",
    "missing_data"
   ]
  },
  {
   "cell_type": "code",
   "execution_count": 68,
   "metadata": {
    "scrolled": false
   },
   "outputs": [
    {
     "data": {
      "text/plain": [
       "Text(0.5,1,'Percent missing data by feature')"
      ]
     },
     "execution_count": 68,
     "metadata": {},
     "output_type": "execute_result"
    },
    {
     "data": {
      "image/png": "[encoded data removed]",
      "text/plain": [
       "<matplotlib.figure.Figure at 0x11abf8390>"
      ]
     },
     "metadata": {},
     "output_type": "display_data"
    }
   ],
   "source": [
    "# Percent missing data by feature\n",
    "f, ax = plt.subplots(figsize=(15, 12))\n",
    "plt.xticks(rotation='90')\n",
    "sns.barplot(x=df_analysis_na.index, y=df_analysis_na)\n",
    "plt.xlabel('Features', fontsize=15)\n",
    "plt.ylabel('Percent of missing values', fontsize=15)\n",
    "plt.title('Percent missing data by feature', fontsize=15)"
   ]
  },
  {
   "cell_type": "markdown",
   "metadata": {},
   "source": [
    "Since there are only 5 missing values in BuildingType, fill the missing value in this column with the most frequent category, which is Condo."
   ]
  },
  {
   "cell_type": "code",
   "execution_count": 69,
   "metadata": {},
   "outputs": [
    {
     "data": {
      "text/plain": [
       "5"
      ]
     },
     "execution_count": 69,
     "metadata": {},
     "output_type": "execute_result"
    }
   ],
   "source": [
    "df_analysis.BuildingType.isnull().sum()\n"
   ]
  },
  {
   "cell_type": "code",
   "execution_count": 70,
   "metadata": {},
   "outputs": [
    {
     "data": {
      "text/plain": [
       "Condo         4564\n",
       "Co-op          541\n",
       "Other type      18\n",
       "Name: BuildingType, dtype: int64"
      ]
     },
     "execution_count": 70,
     "metadata": {},
     "output_type": "execute_result"
    }
   ],
   "source": [
    "df_analysis.BuildingType.value_counts()\n",
    "# the most frequent type is Condo, so I will fill these 5 missing values with the type Condo"
   ]
  },
  {
   "cell_type": "code",
   "execution_count": 71,
   "metadata": {},
   "outputs": [],
   "source": [
    "df_analysis.BuildingType.fillna('Condo',inplace = True)"
   ]
  },
  {
   "cell_type": "markdown",
   "metadata": {},
   "source": [
    "Since Num_bathroom and Num_bedroom are of the most important features to predict the housing price, \n",
    "yet there are around 50% missing values. Luckily we have more than 5000 rows of data, I decide to drop the rows \n",
    "in which Num_bathroom or Num_bedroom are NaN "
   ]
  },
  {
   "cell_type": "code",
   "execution_count": 72,
   "metadata": {},
   "outputs": [],
   "source": [
    "\n",
    "df_analysis.dropna(subset=['Num_bathroom'], inplace = True)\n",
    "df_analysis.dropna(subset=['Num_bedroom'], inplace = True)\n",
    "df_analysis.dropna(subset=['SquareFeet'], inplace = True)"
   ]
  },
  {
   "cell_type": "code",
   "execution_count": 73,
   "metadata": {},
   "outputs": [
    {
     "data": {
      "text/plain": [
       "(2629, 15)"
      ]
     },
     "execution_count": 73,
     "metadata": {},
     "output_type": "execute_result"
    }
   ],
   "source": [
    "# We still have around 3000 rows left\n",
    "df_analysis.shape"
   ]
  },
  {
   "cell_type": "markdown",
   "metadata": {},
   "source": [
    "Use the median value to fill in the NaN values in columns: Num_story and Num_unit\n",
    "\n"
   ]
  },
  {
   "cell_type": "code",
   "execution_count": 74,
   "metadata": {},
   "outputs": [],
   "source": [
    "Num_story_median = df_analysis.Num_story.median()\n",
    "Num_unit_median = df_analysis.Num_unit.median()\n",
    "\n",
    "df_analysis.Num_story.fillna(Num_story_median ,inplace = True)\n",
    "df_analysis.Num_unit.fillna(Num_unit_median ,inplace = True)"
   ]
  },
  {
   "cell_type": "code",
   "execution_count": 75,
   "metadata": {},
   "outputs": [],
   "source": [
    "# For Build_year, turn it into str first and then fill the NaN values with the most frequent values\n",
    "df_analysis['Build_year'] = df_analysis.Build_year.astype('str')\n",
    "# 1985 is the most frequent Build_year\n",
    "df_analysis.Build_year.fillna('1985', inplace = True)"
   ]
  },
  {
   "cell_type": "code",
   "execution_count": 76,
   "metadata": {},
   "outputs": [
    {
     "data": {
      "text/plain": [
       "id                   0.0\n",
       "BuildingType         0.0\n",
       "other_ament_score    0.0\n",
       "trans_average        0.0\n",
       "Elevator             0.0\n",
       "Doorman              0.0\n",
       "PetsAllowed          0.0\n",
       "Num_unit             0.0\n",
       "Num_story            0.0\n",
       "Build_year           0.0\n",
       "Sold_price           0.0\n",
       "Num_bedroom          0.0\n",
       "Num_bathroom         0.0\n",
       "SquareFeet           0.0\n",
       "Studio               0.0\n",
       "dtype: float64"
      ]
     },
     "execution_count": 76,
     "metadata": {},
     "output_type": "execute_result"
    }
   ],
   "source": [
    "# Check and make sure there is no missing values in the data frame\n",
    "df_analysis_na = (df_analysis.isnull().sum() / len(df_analysis)) * 100\n",
    "df_analysis_na"
   ]
  },
  {
   "cell_type": "code",
   "execution_count": 77,
   "metadata": {},
   "outputs": [
    {
     "name": "stdout",
     "output_type": "stream",
     "text": [
      "1840\n",
      "789\n"
     ]
    }
   ],
   "source": [
    "np.random.seed(5)\n",
    "train, test = train_test_split(df_analysis, test_size=0.3)\n",
    "print(len(train))\n",
    "print(len(test))"
   ]
  },
  {
   "cell_type": "code",
   "execution_count": 78,
   "metadata": {},
   "outputs": [
    {
     "name": "stdout",
     "output_type": "stream",
     "text": [
      "The train data size after dropping id feature is : (1840, 14) \n",
      "The test data size after dropping id feature is : (789, 14) \n"
     ]
    }
   ],
   "source": [
    "# Save the 'id' column\n",
    "train_ID = train['id']\n",
    "test_ID = test['id']\n",
    "\n",
    "# Now drop the 'id' column since it's unnecessary for the prediction process.\n",
    "train.drop(\"id\", axis = 1, inplace = True)\n",
    "test.drop(\"id\", axis = 1, inplace = True)\n",
    "\n",
    "# Check data size after dropping the 'id' variable\n",
    "print(\"The train data size after dropping id feature is : {} \".format(train.shape)) \n",
    "print(\"The test data size after dropping id feature is : {} \".format(test.shape))"
   ]
  },
  {
   "cell_type": "code",
   "execution_count": 79,
   "metadata": {},
   "outputs": [
    {
     "data": {
      "text/html": [
       "<div>\n",
       "<style scoped>\n",
       "    .dataframe tbody tr th:only-of-type {\n",
       "        vertical-align: middle;\n",
       "    }\n",
       "\n",
       "    .dataframe tbody tr th {\n",
       "        vertical-align: top;\n",
       "    }\n",
       "\n",
       "    .dataframe thead th {\n",
       "        text-align: right;\n",
       "    }\n",
       "</style>\n",
       "<table border=\"1\" class=\"dataframe\">\n",
       "  <thead>\n",
       "    <tr style=\"text-align: right;\">\n",
       "      <th></th>\n",
       "      <th>BuildingType</th>\n",
       "      <th>other_ament_score</th>\n",
       "      <th>trans_average</th>\n",
       "      <th>Elevator</th>\n",
       "      <th>Doorman</th>\n",
       "      <th>PetsAllowed</th>\n",
       "      <th>Num_unit</th>\n",
       "      <th>Num_story</th>\n",
       "      <th>Build_year</th>\n",
       "      <th>Sold_price</th>\n",
       "      <th>Num_bedroom</th>\n",
       "      <th>Num_bathroom</th>\n",
       "      <th>SquareFeet</th>\n",
       "      <th>Studio</th>\n",
       "    </tr>\n",
       "  </thead>\n",
       "  <tbody>\n",
       "    <tr>\n",
       "      <th>18546</th>\n",
       "      <td>Condo</td>\n",
       "      <td>3</td>\n",
       "      <td>0.238</td>\n",
       "      <td>1.0</td>\n",
       "      <td>0.0</td>\n",
       "      <td>0.0</td>\n",
       "      <td>5.0</td>\n",
       "      <td>7.0</td>\n",
       "      <td>1891.0</td>\n",
       "      <td>4625000.0</td>\n",
       "      <td>3.0</td>\n",
       "      <td>2.5</td>\n",
       "      <td>4058.0</td>\n",
       "      <td>0.0</td>\n",
       "    </tr>\n",
       "    <tr>\n",
       "      <th>21041</th>\n",
       "      <td>Co-op</td>\n",
       "      <td>14</td>\n",
       "      <td>0.402</td>\n",
       "      <td>1.0</td>\n",
       "      <td>1.0</td>\n",
       "      <td>1.0</td>\n",
       "      <td>880.0</td>\n",
       "      <td>20.0</td>\n",
       "      <td>1960.0</td>\n",
       "      <td>496000.0</td>\n",
       "      <td>1.0</td>\n",
       "      <td>1.0</td>\n",
       "      <td>800.0</td>\n",
       "      <td>0.0</td>\n",
       "    </tr>\n",
       "    <tr>\n",
       "      <th>7545</th>\n",
       "      <td>Condo</td>\n",
       "      <td>11</td>\n",
       "      <td>0.150</td>\n",
       "      <td>1.0</td>\n",
       "      <td>1.0</td>\n",
       "      <td>0.0</td>\n",
       "      <td>452.0</td>\n",
       "      <td>37.0</td>\n",
       "      <td>1929.0</td>\n",
       "      <td>1350000.0</td>\n",
       "      <td>1.0</td>\n",
       "      <td>1.0</td>\n",
       "      <td>881.0</td>\n",
       "      <td>0.0</td>\n",
       "    </tr>\n",
       "    <tr>\n",
       "      <th>3208</th>\n",
       "      <td>Condo</td>\n",
       "      <td>9</td>\n",
       "      <td>0.406</td>\n",
       "      <td>1.0</td>\n",
       "      <td>1.0</td>\n",
       "      <td>1.0</td>\n",
       "      <td>168.0</td>\n",
       "      <td>28.0</td>\n",
       "      <td>2001.0</td>\n",
       "      <td>2708545.0</td>\n",
       "      <td>3.0</td>\n",
       "      <td>2.0</td>\n",
       "      <td>726.0</td>\n",
       "      <td>0.0</td>\n",
       "    </tr>\n",
       "    <tr>\n",
       "      <th>2938</th>\n",
       "      <td>Condo</td>\n",
       "      <td>9</td>\n",
       "      <td>0.406</td>\n",
       "      <td>1.0</td>\n",
       "      <td>1.0</td>\n",
       "      <td>1.0</td>\n",
       "      <td>168.0</td>\n",
       "      <td>28.0</td>\n",
       "      <td>2001.0</td>\n",
       "      <td>1476462.0</td>\n",
       "      <td>2.0</td>\n",
       "      <td>2.0</td>\n",
       "      <td>1049.0</td>\n",
       "      <td>0.0</td>\n",
       "    </tr>\n",
       "  </tbody>\n",
       "</table>\n",
       "</div>"
      ],
      "text/plain": [
       "      BuildingType  other_ament_score  trans_average  Elevator  Doorman  \\\n",
       "18546        Condo                  3          0.238       1.0      0.0   \n",
       "21041        Co-op                 14          0.402       1.0      1.0   \n",
       "7545         Condo                 11          0.150       1.0      1.0   \n",
       "3208         Condo                  9          0.406       1.0      1.0   \n",
       "2938         Condo                  9          0.406       1.0      1.0   \n",
       "\n",
       "       PetsAllowed  Num_unit  Num_story Build_year  Sold_price  Num_bedroom  \\\n",
       "18546          0.0       5.0        7.0     1891.0   4625000.0          3.0   \n",
       "21041          1.0     880.0       20.0     1960.0    496000.0          1.0   \n",
       "7545           0.0     452.0       37.0     1929.0   1350000.0          1.0   \n",
       "3208           1.0     168.0       28.0     2001.0   2708545.0          3.0   \n",
       "2938           1.0     168.0       28.0     2001.0   1476462.0          2.0   \n",
       "\n",
       "       Num_bathroom  SquareFeet  Studio  \n",
       "18546           2.5      4058.0     0.0  \n",
       "21041           1.0       800.0     0.0  \n",
       "7545            1.0       881.0     0.0  \n",
       "3208            2.0       726.0     0.0  \n",
       "2938            2.0      1049.0     0.0  "
      ]
     },
     "execution_count": 79,
     "metadata": {},
     "output_type": "execute_result"
    }
   ],
   "source": [
    "train.head()"
   ]
  },
  {
   "cell_type": "code",
   "execution_count": 80,
   "metadata": {
    "scrolled": true
   },
   "outputs": [
    {
     "name": "stdout",
     "output_type": "stream",
     "text": [
      "\n",
      " mu = 2732303.94 and sigma = 7065858.50\n",
      "\n"
     ]
    },
    {
     "data": {
      "image/png": "[encoded data removed]",
      "text/plain": [
       "<matplotlib.figure.Figure at 0x113fec518>"
      ]
     },
     "metadata": {},
     "output_type": "display_data"
    },
    {
     "data": {
      "image/png": "[encoded data removed]",
      "text/plain": [
       "<matplotlib.figure.Figure at 0x10e9494a8>"
      ]
     },
     "metadata": {},
     "output_type": "display_data"
    },
    {
     "name": "stdout",
     "output_type": "stream",
     "text": [
      "Skewness: 8.858287\n",
      "Kurtosis: 83.341326\n"
     ]
    }
   ],
   "source": [
    "# Plot Histogram\n",
    "sns.distplot(train['Sold_price'].dropna() , fit=norm);\n",
    "\n",
    "# Get the fitted parameters used by the function\n",
    "(mu, sigma) = norm.fit(train['Sold_price'].dropna())\n",
    "print( '\\n mu = {:.2f} and sigma = {:.2f}\\n'.format(mu, sigma))\n",
    "plt.legend(['Normal dist. ($\\mu=$ {:.2f} and $\\sigma=$ {:.2f} )'.format(mu, sigma)],\n",
    "            loc='best')\n",
    "plt.ylabel('Frequency')\n",
    "plt.title('Sold_price distribution')\n",
    "\n",
    "fig = plt.figure()\n",
    "res = stats.probplot(train['Sold_price'].dropna(), plot=plt)\n",
    "plt.show()\n",
    "\n",
    "print(\"Skewness: %f\" % train['Sold_price'].dropna().skew())\n",
    "print(\"Kurtosis: %f\" % train['Sold_price'].dropna().kurt())"
   ]
  },
  {
   "cell_type": "code",
   "execution_count": 81,
   "metadata": {
    "scrolled": false
   },
   "outputs": [
    {
     "name": "stdout",
     "output_type": "stream",
     "text": [
      "\n",
      " mu = 14.24 and sigma = 0.89\n",
      "\n"
     ]
    },
    {
     "data": {
      "image/png": "[encoded data removed]",
      "text/plain": [
       "<matplotlib.figure.Figure at 0x119bd3e80>"
      ]
     },
     "metadata": {},
     "output_type": "display_data"
    },
    {
     "data": {
      "image/png": "[encoded data removed]",
      "text/plain": [
       "<matplotlib.figure.Figure at 0x113f56240>"
      ]
     },
     "metadata": {},
     "output_type": "display_data"
    },
    {
     "name": "stdout",
     "output_type": "stream",
     "text": [
      "Skewness: 0.658023\n",
      "Kurtosis: 3.389776\n"
     ]
    }
   ],
   "source": [
    "train[\"Sold_price\"] = np.log1p(train[\"Sold_price\"])\n",
    "\n",
    "#Check the new distribution \n",
    "sns.distplot(train['Sold_price'] , fit=norm);\n",
    "\n",
    "# Get the fitted parameters used by the function\n",
    "(mu, sigma) = norm.fit(train['Sold_price'])\n",
    "print( '\\n mu = {:.2f} and sigma = {:.2f}\\n'.format(mu, sigma))\n",
    "plt.legend(['Normal dist. ($\\mu=$ {:.2f} and $\\sigma=$ {:.2f} )'.format(mu, sigma)],\n",
    "            loc='best')\n",
    "plt.ylabel('Frequency')\n",
    "plt.title('Sold_price distribution')\n",
    "\n",
    "fig = plt.figure()\n",
    "res = stats.probplot(train['Sold_price'], plot=plt)\n",
    "plt.show()\n",
    "\n",
    "y_train = train.Sold_price.values\n",
    "\n",
    "print(\"Skewness: %f\" % train['Sold_price'].skew())\n",
    "print(\"Kurtosis: %f\" % train['Sold_price'].kurt())"
   ]
  },
  {
   "cell_type": "markdown",
   "metadata": {},
   "source": [
    "Now we start to fix the skewing issue: skewed data to be more normal so that our models will be more accurate when making predictions\n",
    "We used the numpy fuction log1p which applies log(1+x) to all elements of the column"
   ]
  },
  {
   "cell_type": "code",
   "execution_count": 82,
   "metadata": {},
   "outputs": [
    {
     "data": {
      "text/html": [
       "<div>\n",
       "<style scoped>\n",
       "    .dataframe tbody tr th:only-of-type {\n",
       "        vertical-align: middle;\n",
       "    }\n",
       "\n",
       "    .dataframe tbody tr th {\n",
       "        vertical-align: top;\n",
       "    }\n",
       "\n",
       "    .dataframe thead th {\n",
       "        text-align: right;\n",
       "    }\n",
       "</style>\n",
       "<table border=\"1\" class=\"dataframe\">\n",
       "  <thead>\n",
       "    <tr style=\"text-align: right;\">\n",
       "      <th></th>\n",
       "      <th>Skewed Features</th>\n",
       "    </tr>\n",
       "  </thead>\n",
       "  <tbody>\n",
       "    <tr>\n",
       "      <th>Sold_price</th>\n",
       "      <td>8.460791</td>\n",
       "    </tr>\n",
       "    <tr>\n",
       "      <th>trans_average</th>\n",
       "      <td>7.856517</td>\n",
       "    </tr>\n",
       "    <tr>\n",
       "      <th>SquareFeet</th>\n",
       "      <td>3.894654</td>\n",
       "    </tr>\n",
       "    <tr>\n",
       "      <th>Studio</th>\n",
       "      <td>2.680115</td>\n",
       "    </tr>\n",
       "    <tr>\n",
       "      <th>Num_unit</th>\n",
       "      <td>1.400012</td>\n",
       "    </tr>\n",
       "  </tbody>\n",
       "</table>\n",
       "</div>"
      ],
      "text/plain": [
       "               Skewed Features\n",
       "Sold_price            8.460791\n",
       "trans_average         7.856517\n",
       "SquareFeet            3.894654\n",
       "Studio                2.680115\n",
       "Num_unit              1.400012"
      ]
     },
     "execution_count": 82,
     "metadata": {},
     "output_type": "execute_result"
    }
   ],
   "source": [
    "numeric_feats = df_analysis.dtypes[df_analysis.dtypes != \"object\"].index\n",
    "\n",
    "# Check the skew of all numerical features\n",
    "skewed_feats = df_analysis[numeric_feats].apply(lambda x: skew(x.dropna())).sort_values(ascending=False)\n",
    "skewness = pd.DataFrame({'Skewed Features' :skewed_feats})\n",
    "skewness.head()"
   ]
  },
  {
   "cell_type": "markdown",
   "metadata": {},
   "source": [
    "Apply the box-cox transformation to solve the skewness problem"
   ]
  },
  {
   "cell_type": "code",
   "execution_count": 83,
   "metadata": {
    "scrolled": true
   },
   "outputs": [
    {
     "name": "stdout",
     "output_type": "stream",
     "text": [
      "There are 12 skewed numerical features to Box Cox transform\n"
     ]
    }
   ],
   "source": [
    "print(\"There are {} skewed numerical features to Box Cox transform\".format(skewness.shape[0]))\n",
    "\n",
    "from scipy.special import boxcox1p\n",
    "skewed_features = skewness.index\n",
    "lam = 0.15\n",
    "for feat in skewed_features:\n",
    "    df_analysis[feat] = boxcox1p(df_analysis[feat], lam)\n",
    "    df_analysis[feat] += 1"
   ]
  },
  {
   "cell_type": "markdown",
   "metadata": {},
   "source": [
    "# Model Performance"
   ]
  },
  {
   "cell_type": "code",
   "execution_count": 84,
   "metadata": {},
   "outputs": [],
   "source": [
    "from sklearn import linear_model\n",
    "from sklearn.linear_model import ElasticNet, Lasso,  BayesianRidge, LassoLarsIC\n",
    "from sklearn.ensemble import RandomForestRegressor,  GradientBoostingRegressor\n",
    "from sklearn.kernel_ridge import KernelRidge\n",
    "from sklearn.pipeline import make_pipeline\n",
    "from sklearn.preprocessing import RobustScaler\n",
    "from sklearn.base import BaseEstimator, TransformerMixin, RegressorMixin, clone\n",
    "from sklearn.model_selection import KFold, cross_val_score, train_test_split\n",
    "from sklearn.metrics import mean_squared_error\n",
    "import xgboost as xgb"
   ]
  },
  {
   "cell_type": "code",
   "execution_count": 85,
   "metadata": {},
   "outputs": [],
   "source": [
    "train_y = train.Sold_price\n",
    "train_x = train.drop(['BuildingType','Build_year'], 1)\n",
    "# Here I dropped buildyear as it's too big and not so meaningful."
   ]
  },
  {
   "cell_type": "code",
   "execution_count": 86,
   "metadata": {},
   "outputs": [
    {
     "data": {
      "text/html": [
       "<div>\n",
       "<style scoped>\n",
       "    .dataframe tbody tr th:only-of-type {\n",
       "        vertical-align: middle;\n",
       "    }\n",
       "\n",
       "    .dataframe tbody tr th {\n",
       "        vertical-align: top;\n",
       "    }\n",
       "\n",
       "    .dataframe thead th {\n",
       "        text-align: right;\n",
       "    }\n",
       "</style>\n",
       "<table border=\"1\" class=\"dataframe\">\n",
       "  <thead>\n",
       "    <tr style=\"text-align: right;\">\n",
       "      <th></th>\n",
       "      <th>other_ament_score</th>\n",
       "      <th>trans_average</th>\n",
       "      <th>Elevator</th>\n",
       "      <th>Doorman</th>\n",
       "      <th>PetsAllowed</th>\n",
       "      <th>Num_unit</th>\n",
       "      <th>Num_story</th>\n",
       "      <th>Sold_price</th>\n",
       "      <th>Num_bedroom</th>\n",
       "      <th>Num_bathroom</th>\n",
       "      <th>SquareFeet</th>\n",
       "      <th>Studio</th>\n",
       "    </tr>\n",
       "  </thead>\n",
       "  <tbody>\n",
       "    <tr>\n",
       "      <th>18546</th>\n",
       "      <td>3</td>\n",
       "      <td>0.238</td>\n",
       "      <td>1.0</td>\n",
       "      <td>0.0</td>\n",
       "      <td>0.0</td>\n",
       "      <td>5.0</td>\n",
       "      <td>7.0</td>\n",
       "      <td>15.346987</td>\n",
       "      <td>3.0</td>\n",
       "      <td>2.5</td>\n",
       "      <td>4058.0</td>\n",
       "      <td>0.0</td>\n",
       "    </tr>\n",
       "    <tr>\n",
       "      <th>21041</th>\n",
       "      <td>14</td>\n",
       "      <td>0.402</td>\n",
       "      <td>1.0</td>\n",
       "      <td>1.0</td>\n",
       "      <td>1.0</td>\n",
       "      <td>880.0</td>\n",
       "      <td>20.0</td>\n",
       "      <td>13.114333</td>\n",
       "      <td>1.0</td>\n",
       "      <td>1.0</td>\n",
       "      <td>800.0</td>\n",
       "      <td>0.0</td>\n",
       "    </tr>\n",
       "    <tr>\n",
       "      <th>7545</th>\n",
       "      <td>11</td>\n",
       "      <td>0.150</td>\n",
       "      <td>1.0</td>\n",
       "      <td>1.0</td>\n",
       "      <td>0.0</td>\n",
       "      <td>452.0</td>\n",
       "      <td>37.0</td>\n",
       "      <td>14.115616</td>\n",
       "      <td>1.0</td>\n",
       "      <td>1.0</td>\n",
       "      <td>881.0</td>\n",
       "      <td>0.0</td>\n",
       "    </tr>\n",
       "    <tr>\n",
       "      <th>3208</th>\n",
       "      <td>9</td>\n",
       "      <td>0.406</td>\n",
       "      <td>1.0</td>\n",
       "      <td>1.0</td>\n",
       "      <td>1.0</td>\n",
       "      <td>168.0</td>\n",
       "      <td>28.0</td>\n",
       "      <td>14.811923</td>\n",
       "      <td>3.0</td>\n",
       "      <td>2.0</td>\n",
       "      <td>726.0</td>\n",
       "      <td>0.0</td>\n",
       "    </tr>\n",
       "    <tr>\n",
       "      <th>2938</th>\n",
       "      <td>9</td>\n",
       "      <td>0.406</td>\n",
       "      <td>1.0</td>\n",
       "      <td>1.0</td>\n",
       "      <td>1.0</td>\n",
       "      <td>168.0</td>\n",
       "      <td>28.0</td>\n",
       "      <td>14.205160</td>\n",
       "      <td>2.0</td>\n",
       "      <td>2.0</td>\n",
       "      <td>1049.0</td>\n",
       "      <td>0.0</td>\n",
       "    </tr>\n",
       "  </tbody>\n",
       "</table>\n",
       "</div>"
      ],
      "text/plain": [
       "       other_ament_score  trans_average  Elevator  Doorman  PetsAllowed  \\\n",
       "18546                  3          0.238       1.0      0.0          0.0   \n",
       "21041                 14          0.402       1.0      1.0          1.0   \n",
       "7545                  11          0.150       1.0      1.0          0.0   \n",
       "3208                   9          0.406       1.0      1.0          1.0   \n",
       "2938                   9          0.406       1.0      1.0          1.0   \n",
       "\n",
       "       Num_unit  Num_story  Sold_price  Num_bedroom  Num_bathroom  SquareFeet  \\\n",
       "18546       5.0        7.0   15.346987          3.0           2.5      4058.0   \n",
       "21041     880.0       20.0   13.114333          1.0           1.0       800.0   \n",
       "7545      452.0       37.0   14.115616          1.0           1.0       881.0   \n",
       "3208      168.0       28.0   14.811923          3.0           2.0       726.0   \n",
       "2938      168.0       28.0   14.205160          2.0           2.0      1049.0   \n",
       "\n",
       "       Studio  \n",
       "18546     0.0  \n",
       "21041     0.0  \n",
       "7545      0.0  \n",
       "3208      0.0  \n",
       "2938      0.0  "
      ]
     },
     "execution_count": 86,
     "metadata": {},
     "output_type": "execute_result"
    }
   ],
   "source": [
    "train_x.head()"
   ]
  },
  {
   "cell_type": "code",
   "execution_count": 87,
   "metadata": {},
   "outputs": [],
   "source": [
    "# Cross-validation with k-folds\n",
    "n_folds = 5\n",
    "\n",
    "def rmsle_cv(model):\n",
    "    kf = KFold(n_folds, shuffle=True, random_state=42).get_n_splits(train.values)\n",
    "    rmse= np.sqrt(-cross_val_score(model, train_x, train_y, scoring=\"neg_mean_squared_error\", cv = 5))\n",
    "    return(rmse)"
   ]
  },
  {
   "cell_type": "code",
   "execution_count": 88,
   "metadata": {},
   "outputs": [],
   "source": [
    "lasso = make_pipeline(RobustScaler(), Lasso(alpha =0.0005, random_state=1))\n",
    "# ENet = make_pipeline(RobustScaler(), ElasticNet(alpha=0.0005, l1_ratio=.9, random_state=3))\n",
    "KRR = KernelRidge(alpha=0.6, kernel='polynomial', degree=2, coef0=2.5)\n",
    "GBoost = GradientBoostingRegressor(n_estimators=3000, learning_rate=0.05,\n",
    "                                   max_depth=4, max_features='sqrt',\n",
    "                                   min_samples_leaf=15, min_samples_split=10, \n",
    "                                   loss='huber', random_state =5)\n",
    "model_xgb = xgb.XGBRegressor(colsample_bytree=0.2, gamma=0.0, \n",
    "                             learning_rate=0.05, max_depth=6, \n",
    "                             min_child_weight=1.5, n_estimators=7200,\n",
    "                             reg_alpha=0.9, reg_lambda=0.6,\n",
    "                             subsample=0.2,seed=42, silent=1,\n",
    "                             random_state =7)"
   ]
  },
  {
   "cell_type": "markdown",
   "metadata": {},
   "source": [
    "Checking performance of base models by evaluating the cross-validation RMSLE error."
   ]
  },
  {
   "cell_type": "code",
   "execution_count": 89,
   "metadata": {},
   "outputs": [
    {
     "name": "stdout",
     "output_type": "stream",
     "text": [
      "\n",
      "Lasso score: 0.0007 (0.0001)\n",
      "\n",
      "Kernel Ridge score: 0.0007 (0.0001)\n",
      "\n",
      "Gradient Boosting score: 0.1314 (0.0960)\n",
      "\n",
      "Xgboost score: 0.1110 (0.0694)\n",
      "\n"
     ]
    }
   ],
   "source": [
    "score = rmsle_cv(lasso)\n",
    "print(\"\\nLasso score: {:.4f} ({:.4f})\\n\".format(score.mean(), score.std()))\n",
    "print(\"Kernel Ridge score: {:.4f} ({:.4f})\\n\".format(score.mean(), score.std()))\n",
    "score = rmsle_cv(GBoost)\n",
    "print(\"Gradient Boosting score: {:.4f} ({:.4f})\\n\".format(score.mean(), score.std()))\n",
    "score = rmsle_cv(model_xgb)\n",
    "print(\"Xgboost score: {:.4f} ({:.4f})\\n\".format(score.mean(), score.std()))\n"
   ]
  },
  {
   "cell_type": "markdown",
   "metadata": {},
   "source": [
    "From the result we can see, in our case Laaso and Kernel Ridge regression performs better than Gradient Boosting and XGBoosting methods."
   ]
  },
  {
   "cell_type": "markdown",
   "metadata": {},
   "source": [
    "## Citataion"
   ]
  },
  {
   "cell_type": "markdown",
   "metadata": {},
   "source": [
    "1. Diogo Menezes Borges. Retrieved from : https://medium.com/diogo-menezes-borges/project-2-predicting-house-prices-on-kaggle-989f1b0c4ef6\n",
    "\n",
    "2. Suryanand Singh. Retrived from : https://www.kaggle.com/surya635/house-price-prediction"
   ]
  }
 ],
 "metadata": {
  "kernelspec": {
   "display_name": "Python 3",
   "language": "python",
   "name": "python3"
  },
  "language_info": {
   "codemirror_mode": {
    "name": "ipython",
    "version": 3
   },
   "file_extension": ".py",
   "mimetype": "text/x-python",
   "name": "python",
   "nbconvert_exporter": "python",
   "pygments_lexer": "ipython3",
   "version": "3.6.8"
  }
 },
 "nbformat": 4,
 "nbformat_minor": 2
}
